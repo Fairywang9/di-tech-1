{
 "cells": [
  {
   "cell_type": "code",
   "execution_count": 1,
   "metadata": {
    "collapsed": true
   },
   "outputs": [],
   "source": [
    "import numpy as np\n",
    "import pandas as pd\n",
    "import matplotlib.pyplot as plt\n",
    "from datetime import datetime"
   ]
  },
  {
   "cell_type": "code",
   "execution_count": 2,
   "metadata": {
    "collapsed": false
   },
   "outputs": [
    {
     "data": {
      "text/html": [
       "<div>\n",
       "<table border=\"1\" class=\"dataframe\">\n",
       "  <thead>\n",
       "    <tr style=\"text-align: right;\">\n",
       "      <th></th>\n",
       "      <th>order_id</th>\n",
       "      <th>driver_id</th>\n",
       "      <th>passenger_id</th>\n",
       "      <th>start_district_hash</th>\n",
       "      <th>dest_district_hash</th>\n",
       "      <th>Price</th>\n",
       "      <th>Time</th>\n",
       "    </tr>\n",
       "  </thead>\n",
       "  <tbody>\n",
       "    <tr>\n",
       "      <th>0</th>\n",
       "      <td>97ebd0c6680f7c0535dbfdead6e51b4b</td>\n",
       "      <td>dd65fa250fca2833a3a8c16d2cf0457c</td>\n",
       "      <td>ed180d7daf639d936f1aeae4f7fb482f</td>\n",
       "      <td>4725c39a5e5f4c188d382da3910b3f3f</td>\n",
       "      <td>3e12208dd0be281c92a6ab57d9a6fb32</td>\n",
       "      <td>24</td>\n",
       "      <td>2016-01-01 13:37:23</td>\n",
       "    </tr>\n",
       "  </tbody>\n",
       "</table>\n",
       "</div>"
      ],
      "text/plain": [
       "                           order_id                         driver_id  \\\n",
       "0  97ebd0c6680f7c0535dbfdead6e51b4b  dd65fa250fca2833a3a8c16d2cf0457c   \n",
       "\n",
       "                       passenger_id               start_district_hash  \\\n",
       "0  ed180d7daf639d936f1aeae4f7fb482f  4725c39a5e5f4c188d382da3910b3f3f   \n",
       "\n",
       "                 dest_district_hash  Price                 Time  \n",
       "0  3e12208dd0be281c92a6ab57d9a6fb32     24  2016-01-01 13:37:23  "
      ]
     },
     "execution_count": 2,
     "metadata": {},
     "output_type": "execute_result"
    }
   ],
   "source": [
    "order_1 = pd.read_csv('season_1/training_data/order_data/order_data_2016-01-01', delimiter='\\t',header=None)\n",
    "order_1.columns = [\"order_id\", \"driver_id\",\"passenger_id\",\"start_district_hash\", \"dest_district_hash\", \"Price\",\"Time\"]\n",
    "order_1.head(1)"
   ]
  },
  {
   "cell_type": "code",
   "execution_count": 43,
   "metadata": {
    "collapsed": false
   },
   "outputs": [],
   "source": [
    "def output(day):\n",
    "    order = pd.read_csv('season_1/training_data/order_data/order_data_{}'.format(day),delimiter='\\t',header=None)\n",
    "    order.columns = [\"order_id\", \"driver_id\",\"passenger_id\",\"start_district_hash\", \"dest_district_hash\", \"Price\",\"Time\"]\n",
    "\n",
    "    # 时间信息\n",
    "    order[\"time\"] = pd.to_datetime(order.Time,unit='s')\n",
    "    # order[\"time_id\"] = order.time.apply(lambda x: x.hour*6 + int(x.minute/10)+1) #这一行和下一行都可以\n",
    "    order[\"time_id\"] = (order.time - datetime.date(order.time).dt.seconds/600).astype(np.int64) + 1 \n",
    "    # 日期信息  \n",
    "    order[\"weekday\"] = datetime.isoweekday(datetime.date(order.time))\n",
    "    order[\"date_id\"] = np.where(order.weekday == (6 or 7), 1,0)\n",
    "    if datetime.date(order.time) == datetime.date(2016, 1, 1):\n",
    "        order[\"date_id\"] = 1\n",
    "    # 地点信息\n",
    "    district_data = pd.read_csv('season_1/training_data/cluster_map/cluster_map', delimiter='\\t',header=None)\n",
    "    district_data.columns = [\"start_district_hash\",\"district_id\"]\n",
    "    # 合并地区信息\n",
    "    order_m = pd.merge(order,district_data,on=\"start_district_hash\")\n",
    "    # 简化表格，并计算gap\n",
    "    std_df = order_m[[\"driver_id\", \"date_id\", \"time_id\",\"district_id\"]]\n",
    "    # 整理 driver_id 信息，将 非NaN 都变为0，将NaN变为1\n",
    "    mask = std_df.isnull()\n",
    "    # convert the NaN data (gap) to 1 \n",
    "    std_df['gap'] = np.where(mask.driver_id,1,0)\n",
    "    # rid the hash data\n",
    "    std_df =std_df.drop(\"driver_id\",axis=1)\n",
    "    # \n",
    "    std_output = std_df.groupby([\"district_id\",\"time_id\"]).sum()\n",
    "   \n",
    "    std_output.to_csv('order_data_{}_gap.csv'.format(day),index=True)"
   ]
  },
  {
   "cell_type": "code",
   "execution_count": null,
   "metadata": {
    "collapsed": false,
    "scrolled": true
   },
   "outputs": [],
   "source": []
  },
  {
   "cell_type": "code",
   "execution_count": null,
   "metadata": {
    "collapsed": false
   },
   "outputs": [],
   "source": []
  },
  {
   "cell_type": "code",
   "execution_count": null,
   "metadata": {
    "collapsed": false,
    "scrolled": true
   },
   "outputs": [],
   "source": []
  },
  {
   "cell_type": "code",
   "execution_count": null,
   "metadata": {
    "collapsed": false
   },
   "outputs": [],
   "source": []
  },
  {
   "cell_type": "code",
   "execution_count": null,
   "metadata": {
    "collapsed": false
   },
   "outputs": [],
   "source": []
  },
  {
   "cell_type": "code",
   "execution_count": null,
   "metadata": {
    "collapsed": false
   },
   "outputs": [],
   "source": []
  },
  {
   "cell_type": "code",
   "execution_count": null,
   "metadata": {
    "collapsed": true
   },
   "outputs": [],
   "source": []
  },
  {
   "cell_type": "code",
   "execution_count": null,
   "metadata": {
    "collapsed": true
   },
   "outputs": [],
   "source": []
  },
  {
   "cell_type": "code",
   "execution_count": null,
   "metadata": {
    "collapsed": false
   },
   "outputs": [],
   "source": []
  },
  {
   "cell_type": "code",
   "execution_count": null,
   "metadata": {
    "collapsed": true
   },
   "outputs": [],
   "source": []
  },
  {
   "cell_type": "code",
   "execution_count": null,
   "metadata": {
    "collapsed": true
   },
   "outputs": [],
   "source": []
  }
 ],
 "metadata": {
  "kernelspec": {
   "display_name": "Python 2",
   "language": "python",
   "name": "python2"
  },
  "language_info": {
   "codemirror_mode": {
    "name": "ipython",
    "version": 2
   },
   "file_extension": ".py",
   "mimetype": "text/x-python",
   "name": "python",
   "nbconvert_exporter": "python",
   "pygments_lexer": "ipython2",
   "version": "2.7.11"
  }
 },
 "nbformat": 4,
 "nbformat_minor": 0
}
