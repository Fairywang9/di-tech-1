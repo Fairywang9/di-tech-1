{
 "cells": [
  {
   "cell_type": "code",
   "execution_count": 1,
   "metadata": {
    "collapsed": true
   },
   "outputs": [],
   "source": [
    "import pandas as pd"
   ]
  },
  {
   "cell_type": "code",
   "execution_count": 11,
   "metadata": {
    "collapsed": false
   },
   "outputs": [],
   "source": [
    "order1 = pd.read_csv('training_data/order_data/order_data_2016-01-01', delimiter='\\t',header = None)"
   ]
  },
  {
   "cell_type": "code",
   "execution_count": 12,
   "metadata": {
    "collapsed": false
   },
   "outputs": [
    {
     "data": {
      "text/plain": [
       "(501287, 7)"
      ]
     },
     "execution_count": 12,
     "metadata": {},
     "output_type": "execute_result"
    }
   ],
   "source": [
    "order1.shape"
   ]
  },
  {
   "cell_type": "code",
   "execution_count": 13,
   "metadata": {
    "collapsed": false
   },
   "outputs": [
    {
     "data": {
      "text/html": [
       "<div>\n",
       "<table border=\"1\" class=\"dataframe\">\n",
       "  <thead>\n",
       "    <tr style=\"text-align: right;\">\n",
       "      <th></th>\n",
       "      <th>5</th>\n",
       "    </tr>\n",
       "  </thead>\n",
       "  <tbody>\n",
       "    <tr>\n",
       "      <th>count</th>\n",
       "      <td>501287.000000</td>\n",
       "    </tr>\n",
       "    <tr>\n",
       "      <th>mean</th>\n",
       "      <td>18.792990</td>\n",
       "    </tr>\n",
       "    <tr>\n",
       "      <th>std</th>\n",
       "      <td>16.913423</td>\n",
       "    </tr>\n",
       "    <tr>\n",
       "      <th>min</th>\n",
       "      <td>0.000000</td>\n",
       "    </tr>\n",
       "    <tr>\n",
       "      <th>25%</th>\n",
       "      <td>8.000000</td>\n",
       "    </tr>\n",
       "    <tr>\n",
       "      <th>50%</th>\n",
       "      <td>14.000000</td>\n",
       "    </tr>\n",
       "    <tr>\n",
       "      <th>75%</th>\n",
       "      <td>23.000000</td>\n",
       "    </tr>\n",
       "    <tr>\n",
       "      <th>max</th>\n",
       "      <td>499.000000</td>\n",
       "    </tr>\n",
       "  </tbody>\n",
       "</table>\n",
       "</div>"
      ],
      "text/plain": [
       "                   5\n",
       "count  501287.000000\n",
       "mean       18.792990\n",
       "std        16.913423\n",
       "min         0.000000\n",
       "25%         8.000000\n",
       "50%        14.000000\n",
       "75%        23.000000\n",
       "max       499.000000"
      ]
     },
     "execution_count": 13,
     "metadata": {},
     "output_type": "execute_result"
    }
   ],
   "source": [
    "order1.describe()"
   ]
  },
  {
   "cell_type": "code",
   "execution_count": 14,
   "metadata": {
    "collapsed": false
   },
   "outputs": [
    {
     "data": {
      "text/plain": [
       "Int64Index([0, 1, 2, 3, 4, 5, 6], dtype='int64')"
      ]
     },
     "execution_count": 14,
     "metadata": {},
     "output_type": "execute_result"
    }
   ],
   "source": [
    "order1.columns"
   ]
  },
  {
   "cell_type": "code",
   "execution_count": 127,
   "metadata": {
    "collapsed": true
   },
   "outputs": [],
   "source": [
    "order1.columns = [\"order_id\", \"driver_id\",\"passenger_id\",\"start_district_hash\", \"dest_district_hash\", \"Price\",\"Time\"]"
   ]
  },
  {
   "cell_type": "code",
   "execution_count": 128,
   "metadata": {
    "collapsed": false
   },
   "outputs": [
    {
     "data": {
      "text/html": [
       "<div>\n",
       "<table border=\"1\" class=\"dataframe\">\n",
       "  <thead>\n",
       "    <tr style=\"text-align: right;\">\n",
       "      <th></th>\n",
       "      <th>order_id</th>\n",
       "      <th>driver_id</th>\n",
       "      <th>passenger_id</th>\n",
       "      <th>start_district_hash</th>\n",
       "      <th>dest_district_hash</th>\n",
       "      <th>Price</th>\n",
       "      <th>Time</th>\n",
       "    </tr>\n",
       "  </thead>\n",
       "  <tbody>\n",
       "    <tr>\n",
       "      <th>0</th>\n",
       "      <td>97ebd0c6680f7c0535dbfdead6e51b4b</td>\n",
       "      <td>dd65fa250fca2833a3a8c16d2cf0457c</td>\n",
       "      <td>ed180d7daf639d936f1aeae4f7fb482f</td>\n",
       "      <td>4725c39a5e5f4c188d382da3910b3f3f</td>\n",
       "      <td>3e12208dd0be281c92a6ab57d9a6fb32</td>\n",
       "      <td>24</td>\n",
       "      <td>2016-01-01 13:37:23</td>\n",
       "    </tr>\n",
       "    <tr>\n",
       "      <th>1</th>\n",
       "      <td>92c3ac9251cc9b5aab90b114a1e363be</td>\n",
       "      <td>c077e0297639edcb1df6189e8cda2c3d</td>\n",
       "      <td>191a180f0a262aff3267775c4fac8972</td>\n",
       "      <td>82cc4851f9e4faa4e54309f8bb73fd7c</td>\n",
       "      <td>b05379ac3f9b7d99370d443cfd5dcc28</td>\n",
       "      <td>2</td>\n",
       "      <td>2016-01-01 09:47:54</td>\n",
       "    </tr>\n",
       "    <tr>\n",
       "      <th>2</th>\n",
       "      <td>abeefc3e2aec952468e2fd42a1649640</td>\n",
       "      <td>86dbc1b68de435957c61b5a523854b69</td>\n",
       "      <td>7029e813bb3de8cc73a8615e2785070c</td>\n",
       "      <td>fff4e8465d1e12621bc361276b6217cf</td>\n",
       "      <td>fff4e8465d1e12621bc361276b6217cf</td>\n",
       "      <td>9</td>\n",
       "      <td>2016-01-01 18:24:02</td>\n",
       "    </tr>\n",
       "    <tr>\n",
       "      <th>3</th>\n",
       "      <td>cb31d0be64cda3cc66b46617bf49a05c</td>\n",
       "      <td>4fadfa6eeaa694742de036dddf02b0c4</td>\n",
       "      <td>21dc133ac68e4c07803d1c2f48988a83</td>\n",
       "      <td>4b7f6f4e2bf237b6cc58f57142bea5c0</td>\n",
       "      <td>4b7f6f4e2bf237b6cc58f57142bea5c0</td>\n",
       "      <td>11</td>\n",
       "      <td>2016-01-01 22:13:27</td>\n",
       "    </tr>\n",
       "    <tr>\n",
       "      <th>4</th>\n",
       "      <td>139d492189ae5a933122c098f63252b3</td>\n",
       "      <td>NaN</td>\n",
       "      <td>26963cc76da2d8450d8f23fc357db987</td>\n",
       "      <td>fc34648599753c9e74ab238e9a4a07ad</td>\n",
       "      <td>87285a66236346350541b8815c5fae94</td>\n",
       "      <td>4</td>\n",
       "      <td>2016-01-01 17:00:06</td>\n",
       "    </tr>\n",
       "  </tbody>\n",
       "</table>\n",
       "</div>"
      ],
      "text/plain": [
       "                           order_id                         driver_id  \\\n",
       "0  97ebd0c6680f7c0535dbfdead6e51b4b  dd65fa250fca2833a3a8c16d2cf0457c   \n",
       "1  92c3ac9251cc9b5aab90b114a1e363be  c077e0297639edcb1df6189e8cda2c3d   \n",
       "2  abeefc3e2aec952468e2fd42a1649640  86dbc1b68de435957c61b5a523854b69   \n",
       "3  cb31d0be64cda3cc66b46617bf49a05c  4fadfa6eeaa694742de036dddf02b0c4   \n",
       "4  139d492189ae5a933122c098f63252b3                               NaN   \n",
       "\n",
       "                       passenger_id               start_district_hash  \\\n",
       "0  ed180d7daf639d936f1aeae4f7fb482f  4725c39a5e5f4c188d382da3910b3f3f   \n",
       "1  191a180f0a262aff3267775c4fac8972  82cc4851f9e4faa4e54309f8bb73fd7c   \n",
       "2  7029e813bb3de8cc73a8615e2785070c  fff4e8465d1e12621bc361276b6217cf   \n",
       "3  21dc133ac68e4c07803d1c2f48988a83  4b7f6f4e2bf237b6cc58f57142bea5c0   \n",
       "4  26963cc76da2d8450d8f23fc357db987  fc34648599753c9e74ab238e9a4a07ad   \n",
       "\n",
       "                 dest_district_hash  Price                 Time  \n",
       "0  3e12208dd0be281c92a6ab57d9a6fb32     24  2016-01-01 13:37:23  \n",
       "1  b05379ac3f9b7d99370d443cfd5dcc28      2  2016-01-01 09:47:54  \n",
       "2  fff4e8465d1e12621bc361276b6217cf      9  2016-01-01 18:24:02  \n",
       "3  4b7f6f4e2bf237b6cc58f57142bea5c0     11  2016-01-01 22:13:27  \n",
       "4  87285a66236346350541b8815c5fae94      4  2016-01-01 17:00:06  "
      ]
     },
     "execution_count": 128,
     "metadata": {},
     "output_type": "execute_result"
    }
   ],
   "source": [
    "order1.head()"
   ]
  },
  {
   "cell_type": "code",
   "execution_count": 130,
   "metadata": {
    "collapsed": false
   },
   "outputs": [
    {
     "data": {
      "text/plain": [
       "0   2016-01-01 13:37:23\n",
       "1   2016-01-01 09:47:54\n",
       "2   2016-01-01 18:24:02\n",
       "3   2016-01-01 22:13:27\n",
       "4   2016-01-01 17:00:06\n",
       "Name: Time, dtype: datetime64[ns]"
      ]
     },
     "execution_count": 130,
     "metadata": {},
     "output_type": "execute_result"
    }
   ],
   "source": [
    "a = pd.to_datetime(order1.Time,unit='s')\n",
    "a.head()"
   ]
  },
  {
   "cell_type": "code",
   "execution_count": 140,
   "metadata": {
    "collapsed": false
   },
   "outputs": [],
   "source": [
    "import datetime"
   ]
  },
  {
   "cell_type": "code",
   "execution_count": 150,
   "metadata": {
    "collapsed": false
   },
   "outputs": [],
   "source": [
    "diff = pd.to_datetime(order1.Time, unit = 's') - datetime.datetime(2016,1,1)"
   ]
  },
  {
   "cell_type": "code",
   "execution_count": 175,
   "metadata": {
    "collapsed": false
   },
   "outputs": [
    {
     "data": {
      "text/plain": [
       "0    2016-01-01 13:37:23\n",
       "1    2016-01-01 09:47:54\n",
       "2    2016-01-01 18:24:02\n",
       "3    2016-01-01 22:13:27\n",
       "4    2016-01-01 17:00:06\n",
       "5    2016-01-01 06:10:34\n",
       "6    2016-01-01 17:34:33\n",
       "7    2016-01-01 12:12:55\n",
       "8    2016-01-01 14:28:07\n",
       "9    2016-01-01 21:56:29\n",
       "10   2016-01-01 00:59:43\n",
       "11   2016-01-01 13:03:18\n",
       "12   2016-01-01 16:00:39\n",
       "13   2016-01-01 19:39:54\n",
       "14   2016-01-01 00:25:44\n",
       "Name: Time, dtype: datetime64[ns]"
      ]
     },
     "execution_count": 175,
     "metadata": {},
     "output_type": "execute_result"
    }
   ],
   "source": [
    "a[:15]"
   ]
  },
  {
   "cell_type": "code",
   "execution_count": 174,
   "metadata": {
    "collapsed": false
   },
   "outputs": [
    {
     "data": {
      "text/plain": [
       "0    13:37:23\n",
       "1    09:47:54\n",
       "2    18:24:02\n",
       "3    22:13:27\n",
       "4    17:00:06\n",
       "5    06:10:34\n",
       "6    17:34:33\n",
       "7    12:12:55\n",
       "8    14:28:07\n",
       "9    21:56:29\n",
       "10   00:59:43\n",
       "11   13:03:18\n",
       "12   16:00:39\n",
       "13   19:39:54\n",
       "14   00:25:44\n",
       "Name: Time, dtype: timedelta64[ns]"
      ]
     },
     "execution_count": 174,
     "metadata": {},
     "output_type": "execute_result"
    }
   ],
   "source": [
    "diff[:15]"
   ]
  },
  {
   "cell_type": "code",
   "execution_count": 180,
   "metadata": {
    "collapsed": true
   },
   "outputs": [],
   "source": [
    "import numpy as np"
   ]
  },
  {
   "cell_type": "code",
   "execution_count": 184,
   "metadata": {
    "collapsed": false
   },
   "outputs": [],
   "source": [
    "diff_time = (diff.dt.seconds/600).astype(np.int64) + 1"
   ]
  },
  {
   "cell_type": "code",
   "execution_count": 187,
   "metadata": {
    "collapsed": false
   },
   "outputs": [
    {
     "data": {
      "text/plain": [
       "5      7942\n",
       "6      7842\n",
       "4      7413\n",
       "7      7160\n",
       "8      6649\n",
       "9      5935\n",
       "104    5505\n",
       "105    5480\n",
       "103    5463\n",
       "101    5365\n",
       "106    5310\n",
       "102    5263\n",
       "10     5262\n",
       "3      5233\n",
       "107    5176\n",
       "100    4883\n",
       "83     4877\n",
       "91     4802\n",
       "108    4782\n",
       "84     4777\n",
       "81     4769\n",
       "99     4738\n",
       "88     4704\n",
       "86     4694\n",
       "80     4683\n",
       "92     4676\n",
       "89     4670\n",
       "82     4658\n",
       "71     4638\n",
       "73     4635\n",
       "       ... \n",
       "137    2216\n",
       "38     2099\n",
       "138    2061\n",
       "37     1829\n",
       "17     1824\n",
       "18     1759\n",
       "139    1689\n",
       "142    1659\n",
       "19     1647\n",
       "140    1628\n",
       "143    1568\n",
       "141    1542\n",
       "36     1475\n",
       "20     1447\n",
       "144    1429\n",
       "35     1305\n",
       "21     1120\n",
       "34     1077\n",
       "22     1064\n",
       "33      954\n",
       "32      881\n",
       "27      817\n",
       "23      811\n",
       "31      810\n",
       "24      803\n",
       "25      793\n",
       "26      770\n",
       "30      745\n",
       "29      729\n",
       "28      716\n",
       "Name: Time, dtype: int64"
      ]
     },
     "execution_count": 187,
     "metadata": {},
     "output_type": "execute_result"
    }
   ],
   "source": [
    "diff_time.value_counts()"
   ]
  },
  {
   "cell_type": "code",
   "execution_count": 32,
   "metadata": {
    "collapsed": false
   },
   "outputs": [],
   "source": [
    "import re\n",
    "fh = open('training_data/poi_data/poi_data')\n",
    "SEPS = ('\\t', ':')\n",
    "rsplit = re.compile(\"|\".join(SEPS)).split\n",
    "content = []\n",
    "for  line in  fh.readlines(): \n",
    "    #print line\n",
    "    a = [s.strip() for s in rsplit(line)]\n",
    "    b = dict(zip(a[1::2], a[2::2]))\n",
    "    b['name'] = a[0]\n",
    "    content.append(b)\n",
    "poi_data = pd.DataFrame(content)"
   ]
  },
  {
   "cell_type": "code",
   "execution_count": 34,
   "metadata": {
    "collapsed": false
   },
   "outputs": [
    {
     "data": {
      "text/plain": [
       "(66, 177)"
      ]
     },
     "execution_count": 34,
     "metadata": {},
     "output_type": "execute_result"
    }
   ],
   "source": [
    "poi_data.shape"
   ]
  },
  {
   "cell_type": "code",
   "execution_count": 37,
   "metadata": {
    "collapsed": false
   },
   "outputs": [
    {
     "data": {
      "text/html": [
       "<div>\n",
       "<table border=\"1\" class=\"dataframe\">\n",
       "  <thead>\n",
       "    <tr style=\"text-align: right;\">\n",
       "      <th></th>\n",
       "      <th>1</th>\n",
       "      <th>1#1</th>\n",
       "      <th>1#10</th>\n",
       "      <th>1#11</th>\n",
       "      <th>1#2</th>\n",
       "      <th>1#3</th>\n",
       "      <th>1#4</th>\n",
       "      <th>1#5</th>\n",
       "      <th>1#6</th>\n",
       "      <th>1#7</th>\n",
       "      <th>...</th>\n",
       "      <th>7#2</th>\n",
       "      <th>7#3</th>\n",
       "      <th>8</th>\n",
       "      <th>8#1</th>\n",
       "      <th>8#2</th>\n",
       "      <th>8#3</th>\n",
       "      <th>8#4</th>\n",
       "      <th>8#5</th>\n",
       "      <th>9#1#1</th>\n",
       "      <th>name</th>\n",
       "    </tr>\n",
       "  </thead>\n",
       "  <tbody>\n",
       "    <tr>\n",
       "      <th>count</th>\n",
       "      <td>56</td>\n",
       "      <td>31</td>\n",
       "      <td>28</td>\n",
       "      <td>57</td>\n",
       "      <td>54</td>\n",
       "      <td>37</td>\n",
       "      <td>37</td>\n",
       "      <td>61</td>\n",
       "      <td>37</td>\n",
       "      <td>20</td>\n",
       "      <td>...</td>\n",
       "      <td>20</td>\n",
       "      <td>1</td>\n",
       "      <td>25</td>\n",
       "      <td>23</td>\n",
       "      <td>63</td>\n",
       "      <td>48</td>\n",
       "      <td>61</td>\n",
       "      <td>12</td>\n",
       "      <td>1</td>\n",
       "      <td>66</td>\n",
       "    </tr>\n",
       "    <tr>\n",
       "      <th>unique</th>\n",
       "      <td>25</td>\n",
       "      <td>9</td>\n",
       "      <td>6</td>\n",
       "      <td>26</td>\n",
       "      <td>19</td>\n",
       "      <td>8</td>\n",
       "      <td>8</td>\n",
       "      <td>40</td>\n",
       "      <td>6</td>\n",
       "      <td>6</td>\n",
       "      <td>...</td>\n",
       "      <td>3</td>\n",
       "      <td>1</td>\n",
       "      <td>9</td>\n",
       "      <td>9</td>\n",
       "      <td>38</td>\n",
       "      <td>26</td>\n",
       "      <td>31</td>\n",
       "      <td>5</td>\n",
       "      <td>1</td>\n",
       "      <td>66</td>\n",
       "    </tr>\n",
       "    <tr>\n",
       "      <th>top</th>\n",
       "      <td>83</td>\n",
       "      <td>83</td>\n",
       "      <td>83</td>\n",
       "      <td>83</td>\n",
       "      <td>83</td>\n",
       "      <td>83</td>\n",
       "      <td>83</td>\n",
       "      <td>249</td>\n",
       "      <td>83</td>\n",
       "      <td>83</td>\n",
       "      <td>...</td>\n",
       "      <td>83</td>\n",
       "      <td>83</td>\n",
       "      <td>83</td>\n",
       "      <td>83</td>\n",
       "      <td>249</td>\n",
       "      <td>166</td>\n",
       "      <td>332</td>\n",
       "      <td>83</td>\n",
       "      <td>14</td>\n",
       "      <td>4b7f6f4e2bf237b6cc58f57142bea5c0</td>\n",
       "    </tr>\n",
       "    <tr>\n",
       "      <th>freq</th>\n",
       "      <td>15</td>\n",
       "      <td>13</td>\n",
       "      <td>16</td>\n",
       "      <td>8</td>\n",
       "      <td>13</td>\n",
       "      <td>17</td>\n",
       "      <td>22</td>\n",
       "      <td>5</td>\n",
       "      <td>19</td>\n",
       "      <td>10</td>\n",
       "      <td>...</td>\n",
       "      <td>11</td>\n",
       "      <td>1</td>\n",
       "      <td>9</td>\n",
       "      <td>9</td>\n",
       "      <td>5</td>\n",
       "      <td>13</td>\n",
       "      <td>6</td>\n",
       "      <td>7</td>\n",
       "      <td>1</td>\n",
       "      <td>1</td>\n",
       "    </tr>\n",
       "  </tbody>\n",
       "</table>\n",
       "<p>4 rows × 177 columns</p>\n",
       "</div>"
      ],
      "text/plain": [
       "         1 1#1 1#10 1#11 1#2 1#3 1#4  1#5 1#6 1#7  \\\n",
       "count   56  31   28   57  54  37  37   61  37  20   \n",
       "unique  25   9    6   26  19   8   8   40   6   6   \n",
       "top     83  83   83   83  83  83  83  249  83  83   \n",
       "freq    15  13   16    8  13  17  22    5  19  10   \n",
       "\n",
       "                      ...                7#2 7#3   8 8#1  8#2  8#3  8#4 8#5  \\\n",
       "count                 ...                 20   1  25  23   63   48   61  12   \n",
       "unique                ...                  3   1   9   9   38   26   31   5   \n",
       "top                   ...                 83  83  83  83  249  166  332  83   \n",
       "freq                  ...                 11   1   9   9    5   13    6   7   \n",
       "\n",
       "       9#1#1                              name  \n",
       "count      1                                66  \n",
       "unique     1                                66  \n",
       "top       14  4b7f6f4e2bf237b6cc58f57142bea5c0  \n",
       "freq       1                                 1  \n",
       "\n",
       "[4 rows x 177 columns]"
      ]
     },
     "execution_count": 37,
     "metadata": {},
     "output_type": "execute_result"
    }
   ],
   "source": [
    "poi_data.describe()"
   ]
  },
  {
   "cell_type": "code",
   "execution_count": 45,
   "metadata": {
    "collapsed": true
   },
   "outputs": [],
   "source": [
    "cluster_map = pd.read_table('training_data/cluster_map/cluster_map', delimiter='\\t',header = None)"
   ]
  },
  {
   "cell_type": "code",
   "execution_count": 46,
   "metadata": {
    "collapsed": false
   },
   "outputs": [],
   "source": [
    "cluster_map.columns = [\"name\", \"mapID\"]"
   ]
  },
  {
   "cell_type": "code",
   "execution_count": 54,
   "metadata": {
    "collapsed": false
   },
   "outputs": [
    {
     "data": {
      "text/html": [
       "<div>\n",
       "<table border=\"1\" class=\"dataframe\">\n",
       "  <thead>\n",
       "    <tr style=\"text-align: right;\">\n",
       "      <th></th>\n",
       "      <th>name</th>\n",
       "      <th>mapID</th>\n",
       "    </tr>\n",
       "  </thead>\n",
       "  <tbody>\n",
       "    <tr>\n",
       "      <th>61</th>\n",
       "      <td>a735449c5c09df639c35a7d61fad3ee5</td>\n",
       "      <td>62</td>\n",
       "    </tr>\n",
       "    <tr>\n",
       "      <th>62</th>\n",
       "      <td>0a5fef95db34383403d11cb6af937309</td>\n",
       "      <td>63</td>\n",
       "    </tr>\n",
       "    <tr>\n",
       "      <th>63</th>\n",
       "      <td>bf44d327f0232325c6d5280926d7b37d</td>\n",
       "      <td>64</td>\n",
       "    </tr>\n",
       "    <tr>\n",
       "      <th>64</th>\n",
       "      <td>825a21aa308dea206adb49c4b77c7805</td>\n",
       "      <td>65</td>\n",
       "    </tr>\n",
       "    <tr>\n",
       "      <th>65</th>\n",
       "      <td>1ecbb52d73c522f184a6fc53128b1ea1</td>\n",
       "      <td>66</td>\n",
       "    </tr>\n",
       "  </tbody>\n",
       "</table>\n",
       "</div>"
      ],
      "text/plain": [
       "                                name  mapID\n",
       "61  a735449c5c09df639c35a7d61fad3ee5     62\n",
       "62  0a5fef95db34383403d11cb6af937309     63\n",
       "63  bf44d327f0232325c6d5280926d7b37d     64\n",
       "64  825a21aa308dea206adb49c4b77c7805     65\n",
       "65  1ecbb52d73c522f184a6fc53128b1ea1     66"
      ]
     },
     "execution_count": 54,
     "metadata": {},
     "output_type": "execute_result"
    }
   ],
   "source": [
    "cluster_map.tail()"
   ]
  },
  {
   "cell_type": "code",
   "execution_count": 68,
   "metadata": {
    "collapsed": false
   },
   "outputs": [],
   "source": [
    "region_data = pd.concat([cluster_map, poi_data], axis = 1)"
   ]
  },
  {
   "cell_type": "code",
   "execution_count": 62,
   "metadata": {
    "collapsed": false
   },
   "outputs": [],
   "source": [
    "region_data.fillna(0,inplace=\"True\")"
   ]
  },
  {
   "cell_type": "code",
   "execution_count": 69,
   "metadata": {
    "collapsed": false,
    "scrolled": true
   },
   "outputs": [
    {
     "name": "stdout",
     "output_type": "stream",
     "text": [
      "<class 'pandas.core.frame.DataFrame'>\n",
      "Int64Index: 66 entries, 0 to 65\n",
      "Columns: 179 entries, name to name\n",
      "dtypes: int64(1), object(178)\n",
      "memory usage: 92.8+ KB\n"
     ]
    }
   ],
   "source": [
    "region_data.info()"
   ]
  },
  {
   "cell_type": "code",
   "execution_count": 97,
   "metadata": {
    "collapsed": false
   },
   "outputs": [
    {
     "data": {
      "text/html": [
       "<div>\n",
       "<table border=\"1\" class=\"dataframe\">\n",
       "  <thead>\n",
       "    <tr style=\"text-align: right;\">\n",
       "      <th></th>\n",
       "      <th>17</th>\n",
       "      <th>17#1</th>\n",
       "      <th>17#2</th>\n",
       "      <th>17#3</th>\n",
       "      <th>17#4</th>\n",
       "      <th>17#5</th>\n",
       "    </tr>\n",
       "  </thead>\n",
       "  <tbody>\n",
       "    <tr>\n",
       "      <th>count</th>\n",
       "      <td>51</td>\n",
       "      <td>10</td>\n",
       "      <td>61</td>\n",
       "      <td>23</td>\n",
       "      <td>40</td>\n",
       "      <td>59</td>\n",
       "    </tr>\n",
       "    <tr>\n",
       "      <th>unique</th>\n",
       "      <td>22</td>\n",
       "      <td>5</td>\n",
       "      <td>37</td>\n",
       "      <td>9</td>\n",
       "      <td>22</td>\n",
       "      <td>38</td>\n",
       "    </tr>\n",
       "    <tr>\n",
       "      <th>top</th>\n",
       "      <td>83</td>\n",
       "      <td>166</td>\n",
       "      <td>747</td>\n",
       "      <td>83</td>\n",
       "      <td>83</td>\n",
       "      <td>166</td>\n",
       "    </tr>\n",
       "    <tr>\n",
       "      <th>freq</th>\n",
       "      <td>11</td>\n",
       "      <td>3</td>\n",
       "      <td>5</td>\n",
       "      <td>10</td>\n",
       "      <td>12</td>\n",
       "      <td>7</td>\n",
       "    </tr>\n",
       "  </tbody>\n",
       "</table>\n",
       "</div>"
      ],
      "text/plain": [
       "        17 17#1 17#2 17#3 17#4 17#5\n",
       "count   51   10   61   23   40   59\n",
       "unique  22    5   37    9   22   38\n",
       "top     83  166  747   83   83  166\n",
       "freq    11    3    5   10   12    7"
      ]
     },
     "execution_count": 97,
     "metadata": {},
     "output_type": "execute_result"
    }
   ],
   "source": [
    "region_data[region_data.columns[region_data.columns.str.startswith('17')].values].describe()"
   ]
  },
  {
   "cell_type": "code",
   "execution_count": 87,
   "metadata": {
    "collapsed": false
   },
   "outputs": [
    {
     "name": "stdout",
     "output_type": "stream",
     "text": [
      "<class 'pandas.core.frame.DataFrame'>\n",
      "Int64Index: 66 entries, 0 to 65\n",
      "Data columns (total 76 columns):\n",
      "1        56 non-null object\n",
      "1#1      31 non-null object\n",
      "1#10     28 non-null object\n",
      "1#11     57 non-null object\n",
      "1#2      54 non-null object\n",
      "1#3      37 non-null object\n",
      "1#4      37 non-null object\n",
      "1#5      61 non-null object\n",
      "1#6      37 non-null object\n",
      "1#7      20 non-null object\n",
      "1#8      56 non-null object\n",
      "1#9      26 non-null object\n",
      "10#1     1 non-null object\n",
      "11       63 non-null object\n",
      "11#1     46 non-null object\n",
      "11#2     52 non-null object\n",
      "11#3     48 non-null object\n",
      "11#4     62 non-null object\n",
      "11#5     40 non-null object\n",
      "11#6     62 non-null object\n",
      "11#7     55 non-null object\n",
      "11#8     64 non-null object\n",
      "12       4 non-null object\n",
      "13#1     1 non-null object\n",
      "13#2     1 non-null object\n",
      "13#3     1 non-null object\n",
      "13#4     66 non-null object\n",
      "13#5     30 non-null object\n",
      "13#6     34 non-null object\n",
      "13#7     1 non-null object\n",
      "13#8     36 non-null object\n",
      "14       44 non-null object\n",
      "14#1     2 non-null object\n",
      "14#10    37 non-null object\n",
      "14#2     28 non-null object\n",
      "14#3     47 non-null object\n",
      "14#4     2 non-null object\n",
      "14#5     1 non-null object\n",
      "14#6     52 non-null object\n",
      "14#7     27 non-null object\n",
      "14#8     26 non-null object\n",
      "14#9     12 non-null object\n",
      "15       64 non-null object\n",
      "15#1     19 non-null object\n",
      "15#2     63 non-null object\n",
      "15#3     64 non-null object\n",
      "15#4     45 non-null object\n",
      "15#5     2 non-null object\n",
      "15#6     60 non-null object\n",
      "15#7     56 non-null object\n",
      "15#8     18 non-null object\n",
      "16       62 non-null object\n",
      "16#1     19 non-null object\n",
      "16#10    63 non-null object\n",
      "16#11    56 non-null object\n",
      "16#12    63 non-null object\n",
      "16#2     20 non-null object\n",
      "16#3     60 non-null object\n",
      "16#4     64 non-null object\n",
      "16#5     2 non-null object\n",
      "16#6     11 non-null object\n",
      "16#7     1 non-null object\n",
      "16#8     25 non-null object\n",
      "16#9     11 non-null object\n",
      "17       51 non-null object\n",
      "17#1     10 non-null object\n",
      "17#2     61 non-null object\n",
      "17#3     23 non-null object\n",
      "17#4     40 non-null object\n",
      "17#5     59 non-null object\n",
      "18       5 non-null object\n",
      "19       66 non-null object\n",
      "19#1     63 non-null object\n",
      "19#2     54 non-null object\n",
      "19#3     64 non-null object\n",
      "19#4     56 non-null object\n",
      "dtypes: object(76)\n",
      "memory usage: 39.7+ KB\n"
     ]
    }
   ],
   "source": [
    "region_data[region_data.columns[region_data.columns.str.startswith('1')].values].info()"
   ]
  },
  {
   "cell_type": "code",
   "execution_count": 88,
   "metadata": {
    "collapsed": false
   },
   "outputs": [
    {
     "data": {
      "text/html": [
       "<div>\n",
       "<table border=\"1\" class=\"dataframe\">\n",
       "  <thead>\n",
       "    <tr style=\"text-align: right;\">\n",
       "      <th></th>\n",
       "      <th>2#1</th>\n",
       "      <th>2#10</th>\n",
       "      <th>2#11</th>\n",
       "      <th>2#12</th>\n",
       "      <th>2#13</th>\n",
       "      <th>2#2</th>\n",
       "      <th>2#3</th>\n",
       "      <th>2#4</th>\n",
       "      <th>2#5</th>\n",
       "      <th>2#6</th>\n",
       "      <th>...</th>\n",
       "      <th>25</th>\n",
       "      <th>25#1</th>\n",
       "      <th>25#2</th>\n",
       "      <th>25#3</th>\n",
       "      <th>25#4</th>\n",
       "      <th>25#5</th>\n",
       "      <th>25#6</th>\n",
       "      <th>25#7</th>\n",
       "      <th>25#8</th>\n",
       "      <th>25#9</th>\n",
       "    </tr>\n",
       "  </thead>\n",
       "  <tbody>\n",
       "    <tr>\n",
       "      <th>count</th>\n",
       "      <td>32</td>\n",
       "      <td>63</td>\n",
       "      <td>30</td>\n",
       "      <td>57</td>\n",
       "      <td>32</td>\n",
       "      <td>59</td>\n",
       "      <td>33</td>\n",
       "      <td>30</td>\n",
       "      <td>59</td>\n",
       "      <td>53</td>\n",
       "      <td>...</td>\n",
       "      <td>63</td>\n",
       "      <td>13</td>\n",
       "      <td>16</td>\n",
       "      <td>23</td>\n",
       "      <td>6</td>\n",
       "      <td>18</td>\n",
       "      <td>29</td>\n",
       "      <td>63</td>\n",
       "      <td>43</td>\n",
       "      <td>64</td>\n",
       "    </tr>\n",
       "    <tr>\n",
       "      <th>unique</th>\n",
       "      <td>8</td>\n",
       "      <td>22</td>\n",
       "      <td>8</td>\n",
       "      <td>30</td>\n",
       "      <td>20</td>\n",
       "      <td>36</td>\n",
       "      <td>9</td>\n",
       "      <td>7</td>\n",
       "      <td>15</td>\n",
       "      <td>21</td>\n",
       "      <td>...</td>\n",
       "      <td>23</td>\n",
       "      <td>3</td>\n",
       "      <td>6</td>\n",
       "      <td>12</td>\n",
       "      <td>3</td>\n",
       "      <td>6</td>\n",
       "      <td>9</td>\n",
       "      <td>29</td>\n",
       "      <td>22</td>\n",
       "      <td>41</td>\n",
       "    </tr>\n",
       "    <tr>\n",
       "      <th>top</th>\n",
       "      <td>83</td>\n",
       "      <td>332</td>\n",
       "      <td>83</td>\n",
       "      <td>83</td>\n",
       "      <td>83</td>\n",
       "      <td>166</td>\n",
       "      <td>83</td>\n",
       "      <td>83</td>\n",
       "      <td>249</td>\n",
       "      <td>83</td>\n",
       "      <td>...</td>\n",
       "      <td>249</td>\n",
       "      <td>83</td>\n",
       "      <td>83</td>\n",
       "      <td>83</td>\n",
       "      <td>83</td>\n",
       "      <td>166</td>\n",
       "      <td>83</td>\n",
       "      <td>332</td>\n",
       "      <td>83</td>\n",
       "      <td>166</td>\n",
       "    </tr>\n",
       "    <tr>\n",
       "      <th>freq</th>\n",
       "      <td>16</td>\n",
       "      <td>8</td>\n",
       "      <td>12</td>\n",
       "      <td>8</td>\n",
       "      <td>9</td>\n",
       "      <td>6</td>\n",
       "      <td>14</td>\n",
       "      <td>16</td>\n",
       "      <td>12</td>\n",
       "      <td>18</td>\n",
       "      <td>...</td>\n",
       "      <td>8</td>\n",
       "      <td>11</td>\n",
       "      <td>8</td>\n",
       "      <td>7</td>\n",
       "      <td>4</td>\n",
       "      <td>6</td>\n",
       "      <td>8</td>\n",
       "      <td>7</td>\n",
       "      <td>9</td>\n",
       "      <td>4</td>\n",
       "    </tr>\n",
       "  </tbody>\n",
       "</table>\n",
       "<p>4 rows × 54 columns</p>\n",
       "</div>"
      ],
      "text/plain": [
       "       2#1 2#10 2#11 2#12 2#13  2#2 2#3 2#4  2#5 2#6 ...    25 25#1 25#2 25#3  \\\n",
       "count   32   63   30   57   32   59  33  30   59  53 ...    63   13   16   23   \n",
       "unique   8   22    8   30   20   36   9   7   15  21 ...    23    3    6   12   \n",
       "top     83  332   83   83   83  166  83  83  249  83 ...   249   83   83   83   \n",
       "freq    16    8   12    8    9    6  14  16   12  18 ...     8   11    8    7   \n",
       "\n",
       "       25#4 25#5 25#6 25#7 25#8 25#9  \n",
       "count     6   18   29   63   43   64  \n",
       "unique    3    6    9   29   22   41  \n",
       "top      83  166   83  332   83  166  \n",
       "freq      4    6    8    7    9    4  \n",
       "\n",
       "[4 rows x 54 columns]"
      ]
     },
     "execution_count": 88,
     "metadata": {},
     "output_type": "execute_result"
    }
   ],
   "source": [
    "region_data[region_data.columns[region_data.columns.str.startswith('2')].values].describe()"
   ]
  },
  {
   "cell_type": "code",
   "execution_count": 89,
   "metadata": {
    "collapsed": false
   },
   "outputs": [
    {
     "data": {
      "text/html": [
       "<div>\n",
       "<table border=\"1\" class=\"dataframe\">\n",
       "  <thead>\n",
       "    <tr style=\"text-align: right;\">\n",
       "      <th></th>\n",
       "      <th>3</th>\n",
       "      <th>3#1</th>\n",
       "      <th>3#2</th>\n",
       "      <th>3#3</th>\n",
       "      <th>3#4</th>\n",
       "      <th>3#5</th>\n",
       "    </tr>\n",
       "  </thead>\n",
       "  <tbody>\n",
       "    <tr>\n",
       "      <th>count</th>\n",
       "      <td>12</td>\n",
       "      <td>65</td>\n",
       "      <td>20</td>\n",
       "      <td>41</td>\n",
       "      <td>1</td>\n",
       "      <td>4</td>\n",
       "    </tr>\n",
       "    <tr>\n",
       "      <th>unique</th>\n",
       "      <td>2</td>\n",
       "      <td>38</td>\n",
       "      <td>5</td>\n",
       "      <td>7</td>\n",
       "      <td>1</td>\n",
       "      <td>1</td>\n",
       "    </tr>\n",
       "    <tr>\n",
       "      <th>top</th>\n",
       "      <td>83</td>\n",
       "      <td>2739</td>\n",
       "      <td>83</td>\n",
       "      <td>83</td>\n",
       "      <td>83</td>\n",
       "      <td>83</td>\n",
       "    </tr>\n",
       "    <tr>\n",
       "      <th>freq</th>\n",
       "      <td>9</td>\n",
       "      <td>4</td>\n",
       "      <td>8</td>\n",
       "      <td>20</td>\n",
       "      <td>1</td>\n",
       "      <td>4</td>\n",
       "    </tr>\n",
       "  </tbody>\n",
       "</table>\n",
       "</div>"
      ],
      "text/plain": [
       "         3   3#1 3#2 3#3 3#4 3#5\n",
       "count   12    65  20  41   1   4\n",
       "unique   2    38   5   7   1   1\n",
       "top     83  2739  83  83  83  83\n",
       "freq     9     4   8  20   1   4"
      ]
     },
     "execution_count": 89,
     "metadata": {},
     "output_type": "execute_result"
    }
   ],
   "source": [
    "region_data[region_data.columns[region_data.columns.str.startswith('3')].values].describe()"
   ]
  },
  {
   "cell_type": "code",
   "execution_count": 93,
   "metadata": {
    "collapsed": false
   },
   "outputs": [
    {
     "data": {
      "text/html": [
       "<div>\n",
       "<table border=\"1\" class=\"dataframe\">\n",
       "  <thead>\n",
       "    <tr style=\"text-align: right;\">\n",
       "      <th></th>\n",
       "      <th>4</th>\n",
       "      <th>4#1</th>\n",
       "      <th>4#10</th>\n",
       "      <th>4#11</th>\n",
       "      <th>4#12</th>\n",
       "      <th>4#13</th>\n",
       "      <th>4#14</th>\n",
       "      <th>4#15</th>\n",
       "      <th>4#16</th>\n",
       "      <th>4#17</th>\n",
       "      <th>4#18</th>\n",
       "      <th>4#2</th>\n",
       "      <th>4#3</th>\n",
       "      <th>4#4</th>\n",
       "      <th>4#5</th>\n",
       "      <th>4#6</th>\n",
       "      <th>4#7</th>\n",
       "      <th>4#8</th>\n",
       "      <th>4#9</th>\n",
       "    </tr>\n",
       "  </thead>\n",
       "  <tbody>\n",
       "    <tr>\n",
       "      <th>count</th>\n",
       "      <td>63</td>\n",
       "      <td>54</td>\n",
       "      <td>44</td>\n",
       "      <td>54</td>\n",
       "      <td>18</td>\n",
       "      <td>44</td>\n",
       "      <td>57</td>\n",
       "      <td>1</td>\n",
       "      <td>54</td>\n",
       "      <td>62</td>\n",
       "      <td>63</td>\n",
       "      <td>62</td>\n",
       "      <td>40</td>\n",
       "      <td>15</td>\n",
       "      <td>52</td>\n",
       "      <td>38</td>\n",
       "      <td>36</td>\n",
       "      <td>42</td>\n",
       "      <td>46</td>\n",
       "    </tr>\n",
       "    <tr>\n",
       "      <th>unique</th>\n",
       "      <td>40</td>\n",
       "      <td>15</td>\n",
       "      <td>23</td>\n",
       "      <td>25</td>\n",
       "      <td>6</td>\n",
       "      <td>25</td>\n",
       "      <td>28</td>\n",
       "      <td>1</td>\n",
       "      <td>10</td>\n",
       "      <td>27</td>\n",
       "      <td>27</td>\n",
       "      <td>30</td>\n",
       "      <td>18</td>\n",
       "      <td>5</td>\n",
       "      <td>28</td>\n",
       "      <td>13</td>\n",
       "      <td>13</td>\n",
       "      <td>9</td>\n",
       "      <td>20</td>\n",
       "    </tr>\n",
       "    <tr>\n",
       "      <th>top</th>\n",
       "      <td>249</td>\n",
       "      <td>83</td>\n",
       "      <td>83</td>\n",
       "      <td>83</td>\n",
       "      <td>83</td>\n",
       "      <td>83</td>\n",
       "      <td>581</td>\n",
       "      <td>7</td>\n",
       "      <td>166</td>\n",
       "      <td>83</td>\n",
       "      <td>249</td>\n",
       "      <td>249</td>\n",
       "      <td>166</td>\n",
       "      <td>83</td>\n",
       "      <td>166</td>\n",
       "      <td>83</td>\n",
       "      <td>166</td>\n",
       "      <td>249</td>\n",
       "      <td>249</td>\n",
       "    </tr>\n",
       "    <tr>\n",
       "      <th>freq</th>\n",
       "      <td>4</td>\n",
       "      <td>13</td>\n",
       "      <td>9</td>\n",
       "      <td>11</td>\n",
       "      <td>10</td>\n",
       "      <td>7</td>\n",
       "      <td>6</td>\n",
       "      <td>1</td>\n",
       "      <td>18</td>\n",
       "      <td>12</td>\n",
       "      <td>7</td>\n",
       "      <td>8</td>\n",
       "      <td>6</td>\n",
       "      <td>7</td>\n",
       "      <td>7</td>\n",
       "      <td>12</td>\n",
       "      <td>7</td>\n",
       "      <td>10</td>\n",
       "      <td>9</td>\n",
       "    </tr>\n",
       "  </tbody>\n",
       "</table>\n",
       "</div>"
      ],
      "text/plain": [
       "          4 4#1 4#10 4#11 4#12 4#13 4#14 4#15 4#16 4#17 4#18  4#2  4#3 4#4  \\\n",
       "count    63  54   44   54   18   44   57    1   54   62   63   62   40  15   \n",
       "unique   40  15   23   25    6   25   28    1   10   27   27   30   18   5   \n",
       "top     249  83   83   83   83   83  581    7  166   83  249  249  166  83   \n",
       "freq      4  13    9   11   10    7    6    1   18   12    7    8    6   7   \n",
       "\n",
       "        4#5 4#6  4#7  4#8  4#9  \n",
       "count    52  38   36   42   46  \n",
       "unique   28  13   13    9   20  \n",
       "top     166  83  166  249  249  \n",
       "freq      7  12    7   10    9  "
      ]
     },
     "execution_count": 93,
     "metadata": {},
     "output_type": "execute_result"
    }
   ],
   "source": [
    "region_data[region_data.columns[region_data.columns.str.startswith('4')].values].describe()"
   ]
  },
  {
   "cell_type": "code",
   "execution_count": 92,
   "metadata": {
    "collapsed": true
   },
   "outputs": [],
   "source": [
    "region_data.to_csv(\"region_data.csv\", sep=\"\\t\")"
   ]
  },
  {
   "cell_type": "code",
   "execution_count": 116,
   "metadata": {
    "collapsed": false
   },
   "outputs": [
    {
     "data": {
      "text/html": [
       "<div>\n",
       "<table border=\"1\" class=\"dataframe\">\n",
       "  <thead>\n",
       "    <tr style=\"text-align: right;\">\n",
       "      <th></th>\n",
       "      <th>4</th>\n",
       "      <th>4#1</th>\n",
       "      <th>4#10</th>\n",
       "      <th>4#11</th>\n",
       "      <th>4#12</th>\n",
       "      <th>4#13</th>\n",
       "      <th>4#14</th>\n",
       "      <th>4#15</th>\n",
       "      <th>4#16</th>\n",
       "      <th>4#17</th>\n",
       "      <th>4#18</th>\n",
       "      <th>4#2</th>\n",
       "      <th>4#3</th>\n",
       "      <th>4#4</th>\n",
       "      <th>4#5</th>\n",
       "      <th>4#6</th>\n",
       "      <th>4#7</th>\n",
       "      <th>4#8</th>\n",
       "      <th>4#9</th>\n",
       "    </tr>\n",
       "  </thead>\n",
       "  <tbody>\n",
       "    <tr>\n",
       "      <th>count</th>\n",
       "      <td>63</td>\n",
       "      <td>54</td>\n",
       "      <td>44</td>\n",
       "      <td>54</td>\n",
       "      <td>18</td>\n",
       "      <td>44</td>\n",
       "      <td>57</td>\n",
       "      <td>1</td>\n",
       "      <td>54</td>\n",
       "      <td>62</td>\n",
       "      <td>63</td>\n",
       "      <td>62</td>\n",
       "      <td>40</td>\n",
       "      <td>15</td>\n",
       "      <td>52</td>\n",
       "      <td>38</td>\n",
       "      <td>36</td>\n",
       "      <td>42</td>\n",
       "      <td>46</td>\n",
       "    </tr>\n",
       "    <tr>\n",
       "      <th>unique</th>\n",
       "      <td>40</td>\n",
       "      <td>15</td>\n",
       "      <td>23</td>\n",
       "      <td>25</td>\n",
       "      <td>6</td>\n",
       "      <td>25</td>\n",
       "      <td>28</td>\n",
       "      <td>1</td>\n",
       "      <td>10</td>\n",
       "      <td>27</td>\n",
       "      <td>27</td>\n",
       "      <td>30</td>\n",
       "      <td>18</td>\n",
       "      <td>5</td>\n",
       "      <td>28</td>\n",
       "      <td>13</td>\n",
       "      <td>13</td>\n",
       "      <td>9</td>\n",
       "      <td>20</td>\n",
       "    </tr>\n",
       "    <tr>\n",
       "      <th>top</th>\n",
       "      <td>249</td>\n",
       "      <td>83</td>\n",
       "      <td>83</td>\n",
       "      <td>83</td>\n",
       "      <td>83</td>\n",
       "      <td>83</td>\n",
       "      <td>581</td>\n",
       "      <td>7</td>\n",
       "      <td>166</td>\n",
       "      <td>83</td>\n",
       "      <td>249</td>\n",
       "      <td>249</td>\n",
       "      <td>166</td>\n",
       "      <td>83</td>\n",
       "      <td>166</td>\n",
       "      <td>83</td>\n",
       "      <td>166</td>\n",
       "      <td>249</td>\n",
       "      <td>249</td>\n",
       "    </tr>\n",
       "    <tr>\n",
       "      <th>freq</th>\n",
       "      <td>4</td>\n",
       "      <td>13</td>\n",
       "      <td>9</td>\n",
       "      <td>11</td>\n",
       "      <td>10</td>\n",
       "      <td>7</td>\n",
       "      <td>6</td>\n",
       "      <td>1</td>\n",
       "      <td>18</td>\n",
       "      <td>12</td>\n",
       "      <td>7</td>\n",
       "      <td>8</td>\n",
       "      <td>6</td>\n",
       "      <td>7</td>\n",
       "      <td>7</td>\n",
       "      <td>12</td>\n",
       "      <td>7</td>\n",
       "      <td>10</td>\n",
       "      <td>9</td>\n",
       "    </tr>\n",
       "  </tbody>\n",
       "</table>\n",
       "</div>"
      ],
      "text/plain": [
       "          4 4#1 4#10 4#11 4#12 4#13 4#14 4#15 4#16 4#17 4#18  4#2  4#3 4#4  \\\n",
       "count    63  54   44   54   18   44   57    1   54   62   63   62   40  15   \n",
       "unique   40  15   23   25    6   25   28    1   10   27   27   30   18   5   \n",
       "top     249  83   83   83   83   83  581    7  166   83  249  249  166  83   \n",
       "freq      4  13    9   11   10    7    6    1   18   12    7    8    6   7   \n",
       "\n",
       "        4#5 4#6  4#7  4#8  4#9  \n",
       "count    52  38   36   42   46  \n",
       "unique   28  13   13    9   20  \n",
       "top     166  83  166  249  249  \n",
       "freq      7  12    7   10    9  "
      ]
     },
     "execution_count": 116,
     "metadata": {},
     "output_type": "execute_result"
    }
   ],
   "source": [
    "region_data[region_data.columns[region_data.columns.str.startswith('4')].values].describe()"
   ]
  },
  {
   "cell_type": "code",
   "execution_count": 115,
   "metadata": {
    "collapsed": false
   },
   "outputs": [
    {
     "data": {
      "text/plain": [
       "24"
      ]
     },
     "execution_count": 115,
     "metadata": {},
     "output_type": "execute_result"
    }
   ],
   "source": [
    "region_data.columns[region_data.count()<=5].values.size"
   ]
  },
  {
   "cell_type": "code",
   "execution_count": 117,
   "metadata": {
    "collapsed": false
   },
   "outputs": [
    {
     "data": {
      "text/html": [
       "<div>\n",
       "<table border=\"1\" class=\"dataframe\">\n",
       "  <thead>\n",
       "    <tr style=\"text-align: right;\">\n",
       "      <th></th>\n",
       "      <th>5</th>\n",
       "      <th>5#1</th>\n",
       "      <th>5#2</th>\n",
       "      <th>5#3</th>\n",
       "      <th>5#4</th>\n",
       "    </tr>\n",
       "  </thead>\n",
       "  <tbody>\n",
       "    <tr>\n",
       "      <th>count</th>\n",
       "      <td>21</td>\n",
       "      <td>55</td>\n",
       "      <td>5</td>\n",
       "      <td>52</td>\n",
       "      <td>20</td>\n",
       "    </tr>\n",
       "    <tr>\n",
       "      <th>unique</th>\n",
       "      <td>7</td>\n",
       "      <td>27</td>\n",
       "      <td>2</td>\n",
       "      <td>21</td>\n",
       "      <td>3</td>\n",
       "    </tr>\n",
       "    <tr>\n",
       "      <th>top</th>\n",
       "      <td>83</td>\n",
       "      <td>166</td>\n",
       "      <td>83</td>\n",
       "      <td>83</td>\n",
       "      <td>83</td>\n",
       "    </tr>\n",
       "    <tr>\n",
       "      <th>freq</th>\n",
       "      <td>7</td>\n",
       "      <td>7</td>\n",
       "      <td>4</td>\n",
       "      <td>15</td>\n",
       "      <td>16</td>\n",
       "    </tr>\n",
       "  </tbody>\n",
       "</table>\n",
       "</div>"
      ],
      "text/plain": [
       "         5  5#1 5#2 5#3 5#4\n",
       "count   21   55   5  52  20\n",
       "unique   7   27   2  21   3\n",
       "top     83  166  83  83  83\n",
       "freq     7    7   4  15  16"
      ]
     },
     "execution_count": 117,
     "metadata": {},
     "output_type": "execute_result"
    }
   ],
   "source": [
    "region_data[region_data.columns[region_data.columns.str.startswith('5')].values].describe()"
   ]
  },
  {
   "cell_type": "code",
   "execution_count": 122,
   "metadata": {
    "collapsed": false
   },
   "outputs": [
    {
     "data": {
      "text/html": [
       "<div>\n",
       "<table border=\"1\" class=\"dataframe\">\n",
       "  <thead>\n",
       "    <tr style=\"text-align: right;\">\n",
       "      <th></th>\n",
       "      <th>6</th>\n",
       "      <th>6#1</th>\n",
       "      <th>6#2</th>\n",
       "      <th>6#3</th>\n",
       "      <th>6#4</th>\n",
       "    </tr>\n",
       "  </thead>\n",
       "  <tbody>\n",
       "    <tr>\n",
       "      <th>count</th>\n",
       "      <td>63</td>\n",
       "      <td>46</td>\n",
       "      <td>37</td>\n",
       "      <td>18</td>\n",
       "      <td>31</td>\n",
       "    </tr>\n",
       "    <tr>\n",
       "      <th>unique</th>\n",
       "      <td>44</td>\n",
       "      <td>20</td>\n",
       "      <td>17</td>\n",
       "      <td>10</td>\n",
       "      <td>11</td>\n",
       "    </tr>\n",
       "    <tr>\n",
       "      <th>top</th>\n",
       "      <td>166</td>\n",
       "      <td>83</td>\n",
       "      <td>83</td>\n",
       "      <td>83</td>\n",
       "      <td>83</td>\n",
       "    </tr>\n",
       "    <tr>\n",
       "      <th>freq</th>\n",
       "      <td>6</td>\n",
       "      <td>12</td>\n",
       "      <td>11</td>\n",
       "      <td>7</td>\n",
       "      <td>13</td>\n",
       "    </tr>\n",
       "  </tbody>\n",
       "</table>\n",
       "</div>"
      ],
      "text/plain": [
       "          6 6#1 6#2 6#3 6#4\n",
       "count    63  46  37  18  31\n",
       "unique   44  20  17  10  11\n",
       "top     166  83  83  83  83\n",
       "freq      6  12  11   7  13"
      ]
     },
     "execution_count": 122,
     "metadata": {},
     "output_type": "execute_result"
    }
   ],
   "source": [
    "region_data[region_data.columns[region_data.columns.str.startswith('6')].values].describe()"
   ]
  },
  {
   "cell_type": "code",
   "execution_count": 123,
   "metadata": {
    "collapsed": false
   },
   "outputs": [
    {
     "data": {
      "text/html": [
       "<div>\n",
       "<table border=\"1\" class=\"dataframe\">\n",
       "  <thead>\n",
       "    <tr style=\"text-align: right;\">\n",
       "      <th></th>\n",
       "      <th>7</th>\n",
       "      <th>7#1</th>\n",
       "      <th>7#2</th>\n",
       "      <th>7#3</th>\n",
       "    </tr>\n",
       "  </thead>\n",
       "  <tbody>\n",
       "    <tr>\n",
       "      <th>count</th>\n",
       "      <td>66</td>\n",
       "      <td>4</td>\n",
       "      <td>20</td>\n",
       "      <td>1</td>\n",
       "    </tr>\n",
       "    <tr>\n",
       "      <th>unique</th>\n",
       "      <td>45</td>\n",
       "      <td>1</td>\n",
       "      <td>3</td>\n",
       "      <td>1</td>\n",
       "    </tr>\n",
       "    <tr>\n",
       "      <th>top</th>\n",
       "      <td>2158</td>\n",
       "      <td>83</td>\n",
       "      <td>83</td>\n",
       "      <td>83</td>\n",
       "    </tr>\n",
       "    <tr>\n",
       "      <th>freq</th>\n",
       "      <td>5</td>\n",
       "      <td>4</td>\n",
       "      <td>11</td>\n",
       "      <td>1</td>\n",
       "    </tr>\n",
       "  </tbody>\n",
       "</table>\n",
       "</div>"
      ],
      "text/plain": [
       "           7 7#1 7#2 7#3\n",
       "count     66   4  20   1\n",
       "unique    45   1   3   1\n",
       "top     2158  83  83  83\n",
       "freq       5   4  11   1"
      ]
     },
     "execution_count": 123,
     "metadata": {},
     "output_type": "execute_result"
    }
   ],
   "source": [
    "region_data[region_data.columns[region_data.columns.str.startswith('7')].values].describe()"
   ]
  },
  {
   "cell_type": "code",
   "execution_count": 124,
   "metadata": {
    "collapsed": false
   },
   "outputs": [
    {
     "data": {
      "text/html": [
       "<div>\n",
       "<table border=\"1\" class=\"dataframe\">\n",
       "  <thead>\n",
       "    <tr style=\"text-align: right;\">\n",
       "      <th></th>\n",
       "      <th>8</th>\n",
       "      <th>8#1</th>\n",
       "      <th>8#2</th>\n",
       "      <th>8#3</th>\n",
       "      <th>8#4</th>\n",
       "      <th>8#5</th>\n",
       "    </tr>\n",
       "  </thead>\n",
       "  <tbody>\n",
       "    <tr>\n",
       "      <th>count</th>\n",
       "      <td>25</td>\n",
       "      <td>23</td>\n",
       "      <td>63</td>\n",
       "      <td>48</td>\n",
       "      <td>61</td>\n",
       "      <td>12</td>\n",
       "    </tr>\n",
       "    <tr>\n",
       "      <th>unique</th>\n",
       "      <td>9</td>\n",
       "      <td>9</td>\n",
       "      <td>38</td>\n",
       "      <td>26</td>\n",
       "      <td>31</td>\n",
       "      <td>5</td>\n",
       "    </tr>\n",
       "    <tr>\n",
       "      <th>top</th>\n",
       "      <td>83</td>\n",
       "      <td>83</td>\n",
       "      <td>249</td>\n",
       "      <td>166</td>\n",
       "      <td>332</td>\n",
       "      <td>83</td>\n",
       "    </tr>\n",
       "    <tr>\n",
       "      <th>freq</th>\n",
       "      <td>9</td>\n",
       "      <td>9</td>\n",
       "      <td>5</td>\n",
       "      <td>13</td>\n",
       "      <td>6</td>\n",
       "      <td>7</td>\n",
       "    </tr>\n",
       "  </tbody>\n",
       "</table>\n",
       "</div>"
      ],
      "text/plain": [
       "         8 8#1  8#2  8#3  8#4 8#5\n",
       "count   25  23   63   48   61  12\n",
       "unique   9   9   38   26   31   5\n",
       "top     83  83  249  166  332  83\n",
       "freq     9   9    5   13    6   7"
      ]
     },
     "execution_count": 124,
     "metadata": {},
     "output_type": "execute_result"
    }
   ],
   "source": [
    "region_data[region_data.columns[region_data.columns.str.startswith('8')].values].describe()"
   ]
  },
  {
   "cell_type": "code",
   "execution_count": 125,
   "metadata": {
    "collapsed": false
   },
   "outputs": [
    {
     "data": {
      "text/html": [
       "<div>\n",
       "<table border=\"1\" class=\"dataframe\">\n",
       "  <thead>\n",
       "    <tr style=\"text-align: right;\">\n",
       "      <th></th>\n",
       "      <th>9#1#1</th>\n",
       "    </tr>\n",
       "  </thead>\n",
       "  <tbody>\n",
       "    <tr>\n",
       "      <th>count</th>\n",
       "      <td>1</td>\n",
       "    </tr>\n",
       "    <tr>\n",
       "      <th>unique</th>\n",
       "      <td>1</td>\n",
       "    </tr>\n",
       "    <tr>\n",
       "      <th>top</th>\n",
       "      <td>14</td>\n",
       "    </tr>\n",
       "    <tr>\n",
       "      <th>freq</th>\n",
       "      <td>1</td>\n",
       "    </tr>\n",
       "  </tbody>\n",
       "</table>\n",
       "</div>"
      ],
      "text/plain": [
       "       9#1#1\n",
       "count      1\n",
       "unique     1\n",
       "top       14\n",
       "freq       1"
      ]
     },
     "execution_count": 125,
     "metadata": {},
     "output_type": "execute_result"
    }
   ],
   "source": [
    "region_data[region_data.columns[region_data.columns.str.startswith('9')].values].describe()"
   ]
  },
  {
   "cell_type": "code",
   "execution_count": 191,
   "metadata": {
    "collapsed": false
   },
   "outputs": [],
   "source": [
    "from sklearn.decomposition import PCA"
   ]
  },
  {
   "cell_type": "code",
   "execution_count": 196,
   "metadata": {
    "collapsed": false
   },
   "outputs": [],
   "source": [
    "region_data.index = region_data[\"mapID\"]\n",
    "region_data_new = region_data.drop(['name', 'mapID'], axis=1) "
   ]
  },
  {
   "cell_type": "code",
   "execution_count": 199,
   "metadata": {
    "collapsed": false
   },
   "outputs": [],
   "source": [
    "region_data_new.fillna(0, inplace = \"True\")"
   ]
  },
  {
   "cell_type": "code",
   "execution_count": 237,
   "metadata": {
    "collapsed": false
   },
   "outputs": [],
   "source": [
    "region_data_new = region_data_new.astype(np.float64)"
   ]
  },
  {
   "cell_type": "code",
   "execution_count": 238,
   "metadata": {
    "collapsed": false
   },
   "outputs": [
    {
     "data": {
      "text/plain": [
       "PCA(copy=True, n_components=2, whiten=False)"
      ]
     },
     "execution_count": 238,
     "metadata": {},
     "output_type": "execute_result"
    }
   ],
   "source": [
    "pca = PCA(n_components=2)\n",
    "pca.fit(region_data_new)"
   ]
  },
  {
   "cell_type": "code",
   "execution_count": 239,
   "metadata": {
    "collapsed": true
   },
   "outputs": [],
   "source": [
    "existing_2d = pca.transform(region_data_new)"
   ]
  },
  {
   "cell_type": "code",
   "execution_count": 240,
   "metadata": {
    "collapsed": false
   },
   "outputs": [
    {
     "data": {
      "text/html": [
       "<div>\n",
       "<table border=\"1\" class=\"dataframe\">\n",
       "  <thead>\n",
       "    <tr style=\"text-align: right;\">\n",
       "      <th></th>\n",
       "      <th>PC1</th>\n",
       "      <th>PC2</th>\n",
       "    </tr>\n",
       "    <tr>\n",
       "      <th>mapID</th>\n",
       "      <th></th>\n",
       "      <th></th>\n",
       "    </tr>\n",
       "  </thead>\n",
       "  <tbody>\n",
       "    <tr>\n",
       "      <th>1</th>\n",
       "      <td>-139858.882765</td>\n",
       "      <td>-31239.960978</td>\n",
       "    </tr>\n",
       "    <tr>\n",
       "      <th>2</th>\n",
       "      <td>54443.137375</td>\n",
       "      <td>4218.688758</td>\n",
       "    </tr>\n",
       "    <tr>\n",
       "      <th>3</th>\n",
       "      <td>42123.460744</td>\n",
       "      <td>2508.576626</td>\n",
       "    </tr>\n",
       "    <tr>\n",
       "      <th>4</th>\n",
       "      <td>38055.489220</td>\n",
       "      <td>-448.513652</td>\n",
       "    </tr>\n",
       "    <tr>\n",
       "      <th>5</th>\n",
       "      <td>54075.264428</td>\n",
       "      <td>2989.558646</td>\n",
       "    </tr>\n",
       "  </tbody>\n",
       "</table>\n",
       "</div>"
      ],
      "text/plain": [
       "                 PC1           PC2\n",
       "mapID                             \n",
       "1     -139858.882765 -31239.960978\n",
       "2       54443.137375   4218.688758\n",
       "3       42123.460744   2508.576626\n",
       "4       38055.489220   -448.513652\n",
       "5       54075.264428   2989.558646"
      ]
     },
     "execution_count": 240,
     "metadata": {},
     "output_type": "execute_result"
    }
   ],
   "source": [
    "existing_df_2d = pd.DataFrame(existing_2d)\n",
    "existing_df_2d.index = region_data_new.index\n",
    "existing_df_2d.columns = ['PC1','PC2']\n",
    "existing_df_2d.head()"
   ]
  },
  {
   "cell_type": "code",
   "execution_count": 241,
   "metadata": {
    "collapsed": false
   },
   "outputs": [
    {
     "name": "stdout",
     "output_type": "stream",
     "text": [
      "[ 0.9321148   0.02561053]\n"
     ]
    }
   ],
   "source": [
    "print(pca.explained_variance_ratio_) "
   ]
  },
  {
   "cell_type": "code",
   "execution_count": 242,
   "metadata": {
    "collapsed": false
   },
   "outputs": [
    {
     "data": {
      "image/png": "[encoded data removed]",
      "text/plain": [
       "<matplotlib.figure.Figure at 0x7f100eed3dd0>"
      ]
     },
     "metadata": {},
     "output_type": "display_data"
    }
   ],
   "source": [
    "%matplotlib inline\n",
    "import matplotlib\n",
    "\n",
    "ax = existing_df_2d.plot(kind='scatter', x='PC2', y='PC1', figsize=(16,8))\n",
    "\n",
    "for i, country in enumerate(region_data_new.index):\n",
    "    ax.annotate(\n",
    "        country, \n",
    "        (existing_df_2d.iloc[i].PC2, existing_df_2d.iloc[i].PC1)\n",
    "    )\n"
   ]
  },
  {
   "cell_type": "code",
   "execution_count": 243,
   "metadata": {
    "collapsed": false
   },
   "outputs": [
    {
     "data": {
      "text/html": [
       "<div>\n",
       "<table border=\"1\" class=\"dataframe\">\n",
       "  <thead>\n",
       "    <tr style=\"text-align: right;\">\n",
       "      <th></th>\n",
       "      <th>PC1</th>\n",
       "      <th>PC2</th>\n",
       "      <th>region_mean</th>\n",
       "      <th>region_mean_scaled</th>\n",
       "    </tr>\n",
       "    <tr>\n",
       "      <th>mapID</th>\n",
       "      <th></th>\n",
       "      <th></th>\n",
       "      <th></th>\n",
       "      <th></th>\n",
       "    </tr>\n",
       "  </thead>\n",
       "  <tbody>\n",
       "    <tr>\n",
       "      <th>1</th>\n",
       "      <td>-139858.882765</td>\n",
       "      <td>-31239.960978</td>\n",
       "      <td>4991.789773</td>\n",
       "      <td>0.262080</td>\n",
       "    </tr>\n",
       "    <tr>\n",
       "      <th>2</th>\n",
       "      <td>54443.137375</td>\n",
       "      <td>4218.688758</td>\n",
       "      <td>290.500000</td>\n",
       "      <td>0.014410</td>\n",
       "    </tr>\n",
       "    <tr>\n",
       "      <th>3</th>\n",
       "      <td>42123.460744</td>\n",
       "      <td>2508.576626</td>\n",
       "      <td>592.318182</td>\n",
       "      <td>0.030310</td>\n",
       "    </tr>\n",
       "    <tr>\n",
       "      <th>4</th>\n",
       "      <td>38055.489220</td>\n",
       "      <td>-448.513652</td>\n",
       "      <td>692.295455</td>\n",
       "      <td>0.035577</td>\n",
       "    </tr>\n",
       "    <tr>\n",
       "      <th>5</th>\n",
       "      <td>54075.264428</td>\n",
       "      <td>2989.558646</td>\n",
       "      <td>213.630682</td>\n",
       "      <td>0.010360</td>\n",
       "    </tr>\n",
       "  </tbody>\n",
       "</table>\n",
       "</div>"
      ],
      "text/plain": [
       "                 PC1           PC2  region_mean  region_mean_scaled\n",
       "mapID                                                              \n",
       "1     -139858.882765 -31239.960978  4991.789773            0.262080\n",
       "2       54443.137375   4218.688758   290.500000            0.014410\n",
       "3       42123.460744   2508.576626   592.318182            0.030310\n",
       "4       38055.489220   -448.513652   692.295455            0.035577\n",
       "5       54075.264428   2989.558646   213.630682            0.010360"
      ]
     },
     "execution_count": 243,
     "metadata": {},
     "output_type": "execute_result"
    }
   ],
   "source": [
    "from sklearn.preprocessing import normalize\n",
    "\n",
    "existing_df_2d['region_mean'] = pd.Series(region_data_new.mean(axis=1), index=existing_df_2d.index)\n",
    "region_mean_max = existing_df_2d['region_mean'].max()\n",
    "region_mean_min = existing_df_2d['region_mean'].min()\n",
    "region_mean_scaled = (existing_df_2d.region_mean-region_mean_min) / region_mean_max\n",
    "existing_df_2d['region_mean_scaled'] = pd.Series(\n",
    "        region_mean_scaled, \n",
    "        index=existing_df_2d.index) \n",
    "existing_df_2d.head()\n"
   ]
  },
  {
   "cell_type": "code",
   "execution_count": 245,
   "metadata": {
    "collapsed": false
   },
   "outputs": [
    {
     "data": {
      "text/plain": [
       "<matplotlib.axes._subplots.AxesSubplot at 0x7f100ee4ca50>"
      ]
     },
     "execution_count": 245,
     "metadata": {},
     "output_type": "execute_result"
    },
    {
     "data": {
      "image/png": "[encoded data removed]",
      "text/plain": [
       "<matplotlib.figure.Figure at 0x7f100efd88d0>"
      ]
     },
     "metadata": {},
     "output_type": "display_data"
    }
   ],
   "source": [
    "existing_df_2d.plot(\n",
    "    kind='scatter', \n",
    "    x='PC2', \n",
    "    y='PC1', \n",
    "    s=existing_df_2d['region_mean_scaled']*100, \n",
    "    figsize=(16,8))\n"
   ]
  },
  {
   "cell_type": "code",
   "execution_count": 247,
   "metadata": {
    "collapsed": false
   },
   "outputs": [
    {
     "data": {
      "text/plain": [
       "<matplotlib.axes._subplots.AxesSubplot at 0x7f100eec6e90>"
      ]
     },
     "execution_count": 247,
     "metadata": {},
     "output_type": "execute_result"
    },
    {
     "data": {
      "image/png": "[encoded data removed]",
      "text/plain": [
       "<matplotlib.figure.Figure at 0x7f101c09dc90>"
      ]
     },
     "metadata": {},
     "output_type": "display_data"
    }
   ],
   "source": [
    "existing_df_2d['region_sum'] = pd.Series(\n",
    "    region_data_new.sum(axis=1), \n",
    "    index=existing_df_2d.index)\n",
    "region_sum_max = existing_df_2d['region_sum'].max()\n",
    "region_sum_min = existing_df_2d['region_sum'].min()\n",
    "region_sum_scaled = (existing_df_2d.region_sum-region_sum_min) / region_sum_max\n",
    "existing_df_2d['region_sum_scaled'] = pd.Series(\n",
    "        region_sum_scaled, \n",
    "        index=existing_df_2d.index)\n",
    "existing_df_2d.plot(\n",
    "    kind='scatter', \n",
    "    x='PC2', y='PC1', \n",
    "    s=existing_df_2d['region_sum_scaled']*100, \n",
    "    figsize=(16,8))"
   ]
  },
  {
   "cell_type": "code",
   "execution_count": 261,
   "metadata": {
    "collapsed": true
   },
   "outputs": [],
   "source": [
    "from sklearn.cluster import KMeans\n",
    "\n",
    "kmeans = KMeans(n_clusters=3)\n",
    "clusters = kmeans.fit(region_data_new)\n"
   ]
  },
  {
   "cell_type": "code",
   "execution_count": 262,
   "metadata": {
    "collapsed": true
   },
   "outputs": [],
   "source": [
    "existing_df_2d['cluster'] = pd.Series(clusters.labels_, index=existing_df_2d.index)"
   ]
  },
  {
   "cell_type": "code",
   "execution_count": 263,
   "metadata": {
    "collapsed": false
   },
   "outputs": [
    {
     "data": {
      "text/plain": [
       "<matplotlib.axes._subplots.AxesSubplot at 0x7f100e916450>"
      ]
     },
     "execution_count": 263,
     "metadata": {},
     "output_type": "execute_result"
    },
    {
     "data": {
      "image/png": "[encoded data removed]",
      "text/plain": [
       "<matplotlib.figure.Figure at 0x7f101cf60e10>"
      ]
     },
     "metadata": {},
     "output_type": "display_data"
    }
   ],
   "source": [
    "import numpy as np\n",
    "\n",
    "existing_df_2d.plot(\n",
    "        kind='scatter',\n",
    "        x='PC2',y='PC1',\n",
    "        c=existing_df_2d.cluster.astype(np.float), \n",
    "        figsize=(16,8))\n"
   ]
  },
  {
   "cell_type": "code",
   "execution_count": 264,
   "metadata": {
    "collapsed": false
   },
   "outputs": [
    {
     "data": {
      "text/plain": [
       "1    60\n",
       "2     5\n",
       "0     1\n",
       "Name: cluster, dtype: int64"
      ]
     },
     "execution_count": 264,
     "metadata": {},
     "output_type": "execute_result"
    }
   ],
   "source": [
    "existing_df_2d.cluster.astype(np.float).value_counts()"
   ]
  },
  {
   "cell_type": "code",
   "execution_count": 265,
   "metadata": {
    "collapsed": false
   },
   "outputs": [
    {
     "data": {
      "text/html": [
       "<div>\n",
       "<table border=\"1\" class=\"dataframe\">\n",
       "  <thead>\n",
       "    <tr style=\"text-align: right;\">\n",
       "      <th></th>\n",
       "      <th>PC1</th>\n",
       "      <th>PC2</th>\n",
       "      <th>region_mean</th>\n",
       "      <th>region_mean_scaled</th>\n",
       "      <th>region_sum</th>\n",
       "      <th>region_sum_scaled</th>\n",
       "      <th>cluster</th>\n",
       "    </tr>\n",
       "    <tr>\n",
       "      <th>mapID</th>\n",
       "      <th></th>\n",
       "      <th></th>\n",
       "      <th></th>\n",
       "      <th></th>\n",
       "      <th></th>\n",
       "      <th></th>\n",
       "      <th></th>\n",
       "    </tr>\n",
       "  </thead>\n",
       "  <tbody>\n",
       "    <tr>\n",
       "      <th>1</th>\n",
       "      <td>-139858.882765</td>\n",
       "      <td>-31239.960978</td>\n",
       "      <td>4991.789773</td>\n",
       "      <td>0.262080</td>\n",
       "      <td>878555</td>\n",
       "      <td>0.262080</td>\n",
       "      <td>2</td>\n",
       "    </tr>\n",
       "    <tr>\n",
       "      <th>52</th>\n",
       "      <td>-314437.040345</td>\n",
       "      <td>-15082.837740</td>\n",
       "      <td>8164.323864</td>\n",
       "      <td>0.429214</td>\n",
       "      <td>1436921</td>\n",
       "      <td>0.429214</td>\n",
       "      <td>2</td>\n",
       "    </tr>\n",
       "    <tr>\n",
       "      <th>53</th>\n",
       "      <td>-315662.195974</td>\n",
       "      <td>39676.157843</td>\n",
       "      <td>9721.846591</td>\n",
       "      <td>0.511267</td>\n",
       "      <td>1711045</td>\n",
       "      <td>0.511267</td>\n",
       "      <td>2</td>\n",
       "    </tr>\n",
       "    <tr>\n",
       "      <th>54</th>\n",
       "      <td>-206024.073545</td>\n",
       "      <td>120401.971273</td>\n",
       "      <td>6675.369318</td>\n",
       "      <td>0.350774</td>\n",
       "      <td>1174865</td>\n",
       "      <td>0.350774</td>\n",
       "      <td>2</td>\n",
       "    </tr>\n",
       "    <tr>\n",
       "      <th>63</th>\n",
       "      <td>-283886.856712</td>\n",
       "      <td>46979.249325</td>\n",
       "      <td>8627.284091</td>\n",
       "      <td>0.453604</td>\n",
       "      <td>1518402</td>\n",
       "      <td>0.453604</td>\n",
       "      <td>2</td>\n",
       "    </tr>\n",
       "  </tbody>\n",
       "</table>\n",
       "</div>"
      ],
      "text/plain": [
       "                 PC1            PC2  region_mean  region_mean_scaled  \\\n",
       "mapID                                                                  \n",
       "1     -139858.882765  -31239.960978  4991.789773            0.262080   \n",
       "52    -314437.040345  -15082.837740  8164.323864            0.429214   \n",
       "53    -315662.195974   39676.157843  9721.846591            0.511267   \n",
       "54    -206024.073545  120401.971273  6675.369318            0.350774   \n",
       "63    -283886.856712   46979.249325  8627.284091            0.453604   \n",
       "\n",
       "       region_sum  region_sum_scaled  cluster  \n",
       "mapID                                          \n",
       "1          878555           0.262080        2  \n",
       "52        1436921           0.429214        2  \n",
       "53        1711045           0.511267        2  \n",
       "54        1174865           0.350774        2  \n",
       "63        1518402           0.453604        2  "
      ]
     },
     "execution_count": 265,
     "metadata": {},
     "output_type": "execute_result"
    }
   ],
   "source": [
    "existing_df_2d[existing_df_2d.cluster==2]"
   ]
  },
  {
   "cell_type": "code",
   "execution_count": 267,
   "metadata": {
    "collapsed": false
   },
   "outputs": [
    {
     "data": {
      "text/html": [
       "<div>\n",
       "<table border=\"1\" class=\"dataframe\">\n",
       "  <thead>\n",
       "    <tr style=\"text-align: right;\">\n",
       "      <th></th>\n",
       "      <th>PC1</th>\n",
       "      <th>PC2</th>\n",
       "      <th>region_mean</th>\n",
       "      <th>region_mean_scaled</th>\n",
       "      <th>region_sum</th>\n",
       "      <th>region_sum_scaled</th>\n",
       "      <th>cluster</th>\n",
       "    </tr>\n",
       "    <tr>\n",
       "      <th>mapID</th>\n",
       "      <th></th>\n",
       "      <th></th>\n",
       "      <th></th>\n",
       "      <th></th>\n",
       "      <th></th>\n",
       "      <th></th>\n",
       "      <th></th>\n",
       "    </tr>\n",
       "  </thead>\n",
       "  <tbody>\n",
       "    <tr>\n",
       "      <th>62</th>\n",
       "      <td>-719532.980088</td>\n",
       "      <td>-55121.80596</td>\n",
       "      <td>18982.005682</td>\n",
       "      <td>0.999106</td>\n",
       "      <td>3340833</td>\n",
       "      <td>0.999106</td>\n",
       "      <td>0</td>\n",
       "    </tr>\n",
       "  </tbody>\n",
       "</table>\n",
       "</div>"
      ],
      "text/plain": [
       "                 PC1          PC2   region_mean  region_mean_scaled  \\\n",
       "mapID                                                                 \n",
       "62    -719532.980088 -55121.80596  18982.005682            0.999106   \n",
       "\n",
       "       region_sum  region_sum_scaled  cluster  \n",
       "mapID                                          \n",
       "62        3340833           0.999106        0  "
      ]
     },
     "execution_count": 267,
     "metadata": {},
     "output_type": "execute_result"
    }
   ],
   "source": [
    "existing_df_2d[existing_df_2d.cluster==0]"
   ]
  },
  {
   "cell_type": "code",
   "execution_count": null,
   "metadata": {
    "collapsed": true
   },
   "outputs": [],
   "source": []
  }
 ],
 "metadata": {
  "kernelspec": {
   "display_name": "Python 2",
   "language": "python",
   "name": "python2"
  },
  "language_info": {
   "codemirror_mode": {
    "name": "ipython",
    "version": 2
   },
   "file_extension": ".py",
   "mimetype": "text/x-python",
   "name": "python",
   "nbconvert_exporter": "python",
   "pygments_lexer": "ipython2",
   "version": "2.7.11"
  }
 },
 "nbformat": 4,
 "nbformat_minor": 0
}
