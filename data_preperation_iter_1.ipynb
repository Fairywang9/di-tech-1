{
 "cells": [
  {
   "cell_type": "code",
   "execution_count": 2,
   "metadata": {
    "collapsed": false
   },
   "outputs": [],
   "source": [
    "import numpy as np\n",
    "import pandas as pd\n",
    "import matplotlib.pyplot as plt\n",
    "from datetime import datetime\n",
    "%matplotlib inline"
   ]
  },
  {
   "cell_type": "code",
   "execution_count": 3,
   "metadata": {
    "collapsed": false
   },
   "outputs": [
    {
     "data": {
      "text/plain": [
       "True"
      ]
     },
     "execution_count": 3,
     "metadata": {},
     "output_type": "execute_result"
    }
   ],
   "source": [
    "import os\n",
    "os.path.exists('season_1/training_data/weather_data/weather_data_2016-01-01')"
   ]
  },
  {
   "cell_type": "markdown",
   "metadata": {},
   "source": [
    "## 将数据整合到一个大的pandas.DataFrame 中\n",
    "- 每张表包括 district_id, time_id, date, w 四个key coloumns。  \n",
    "- 整合weather_dat 和 traffic_data\n",
    "- 初步探索"
   ]
  },
  {
   "cell_type": "markdown",
   "metadata": {},
   "source": [
    "### 整合weather_data"
   ]
  },
  {
   "cell_type": "code",
   "execution_count": 330,
   "metadata": {
    "collapsed": true
   },
   "outputs": [],
   "source": [
    "# 可以把所有的天气都合并起来\n",
    "def weather_transfer(date):\n",
    "    import pandas as pd\n",
    "    wt = pd.read_csv('season_1/training_data/weather_data/weather_data_{}'.format(date.strftime(\"%Y-%m-%d\")), sep='\\t', header=None)\n",
    "    wt.columns = ['time', 'weather','temp','pm25']\n",
    "    wt.time = pd.to_datetime(wt.time, unit='s')\n",
    "    wt[\"time_id\"] = wt.time.apply(lambda x: x.hour*6 + int(x.minute/10) + 1)\n",
    "    wts = wt.groupby('time_id', as_index=False).mean()\n",
    "    wts['date'] = date\n",
    "    wts['w'] = date.strftime(\"%w\")\n",
    "    return  wts\n",
    "\n",
    "    "
   ]
  },
  {
   "cell_type": "code",
   "execution_count": 324,
   "metadata": {
    "collapsed": false
   },
   "outputs": [],
   "source": [
    "dt = pd.date_range('2016-01-01','2016-01-21',freq='D')"
   ]
  },
  {
   "cell_type": "code",
   "execution_count": 331,
   "metadata": {
    "collapsed": false
   },
   "outputs": [],
   "source": [
    "weather_data_list =[]\n",
    "for date in dt:\n",
    "    weather_data_list.append(weather_transfer(date))\n",
    "wt_summary_df = pd.concat(weather_data_list)\n",
    "    "
   ]
  },
  {
   "cell_type": "code",
   "execution_count": 332,
   "metadata": {
    "collapsed": false
   },
   "outputs": [
    {
     "name": "stdout",
     "output_type": "stream",
     "text": [
      "<class 'pandas.core.frame.DataFrame'>\n",
      "Int64Index: 2670 entries, 0 to 36\n",
      "Data columns (total 6 columns):\n",
      "time_id    2670 non-null int64\n",
      "weather    2670 non-null float64\n",
      "temp       2670 non-null float64\n",
      "pm25       2670 non-null float64\n",
      "date       2670 non-null datetime64[ns]\n",
      "w          2670 non-null object\n",
      "dtypes: datetime64[ns](1), float64(3), int64(1), object(1)\n",
      "memory usage: 146.0+ KB\n"
     ]
    }
   ],
   "source": [
    "wt_summary_df.info()"
   ]
  },
  {
   "cell_type": "code",
   "execution_count": 433,
   "metadata": {
    "collapsed": false
   },
   "outputs": [
    {
     "data": {
      "text/plain": [
       "array([<matplotlib.axes._subplots.AxesSubplot object at 0x141a7ef28>,\n",
       "       <matplotlib.axes._subplots.AxesSubplot object at 0x1385f3f60>,\n",
       "       <matplotlib.axes._subplots.AxesSubplot object at 0x1429121d0>,\n",
       "       <matplotlib.axes._subplots.AxesSubplot object at 0x13a91f748>], dtype=object)"
      ]
     },
     "execution_count": 433,
     "metadata": {},
     "output_type": "execute_result"
    },
    {
     "data": {
      "image/png": "[encoded data removed]",
      "text/plain": [
       "<matplotlib.figure.Figure at 0x144006898>"
      ]
     },
     "metadata": {},
     "output_type": "display_data"
    }
   ],
   "source": [
    "# 查看整体天气趋势\n",
    "wt_summary_df.groupby('date').mean().plot(subplots=True)"
   ]
  },
  {
   "cell_type": "markdown",
   "metadata": {},
   "source": [
    "### 整合 traffic_data"
   ]
  },
  {
   "cell_type": "code",
   "execution_count": 327,
   "metadata": {
    "collapsed": false
   },
   "outputs": [],
   "source": [
    "def level_process(colomns):\n",
    "    if colomns.str[0].all() in [\"{}\".format(str(i)) for i in range(1,5)] and colomns.str[1].all() == \":\":\n",
    "        return colomns.str.split(\":\").apply(lambda  x: x[1])\n",
    "    else:\n",
    "        return colomns\n",
    "\n",
    "# 特别注意读取数据时,地址可能不同。    \n",
    "def traffic_data_transfer(date):\n",
    "    \"\"\"\n",
    "    Use to transfer the raw traffic data to standard data with time_id, district_id, day columns \n",
    "    Input type: Datetime\n",
    "    Output type: pd.DataFrame\n",
    "    \"\"\"\n",
    "    \n",
    "    # 读取数据,注意地址可能不同\n",
    "    trf = pd.read_csv('season_1/training_data/traffic_data/traffic_data_{}'.format(date.strftime(\"%Y-%m-%d\")), sep=\"\\t\", header=None)\n",
    "    # 重命名coloumns\n",
    "    trf.columns = ['district_hash','tj_level_1','tj_level_2','tj_level_3','tj_level_4','time']\n",
    "    # 数据规整 tj_level data \n",
    "    trf = trf.apply(level_process)\n",
    "    # 对时间进行格式化\n",
    "    trf[\"time_id\"] = pd.to_datetime(trf.time).apply(lambda x: x.hour*6 + int(x.minute/10)+1) \n",
    "    trf.drop(\"time\", axis=1, inplace=True)\n",
    "    # 读取 cluster_map 信息\n",
    "    district_data = pd.read_csv('season_1/training_data/cluster_map/cluster_map', delimiter='\\t',header=None)\n",
    "    district_data.columns = [\"district_hash\",\"district_id\"]\n",
    "    # 合并信息\n",
    "    trf = pd.merge(trf ,district_data,on=\"district_hash\")\n",
    "    trf.drop(\"district_hash\", axis=1, inplace=True)\n",
    "    # 转换所有值为数字\n",
    "    trf = trf.apply(lambda x: pd.to_numeric(x))\n",
    "    # 加入日期coloumns，作为唯一标记\n",
    "    trf[\"date\"] = date\n",
    "    # 加入星期几 的 coloumns，作为类别标记\n",
    "    trf[\"w\"] = date.strftime(\"%w\")\n",
    "\n",
    "    return trf\n",
    "\n"
   ]
  },
  {
   "cell_type": "markdown",
   "metadata": {},
   "source": [
    "#### 分布说明"
   ]
  },
  {
   "cell_type": "code",
   "execution_count": 215,
   "metadata": {
    "collapsed": false
   },
   "outputs": [
    {
     "name": "stdout",
     "output_type": "stream",
     "text": [
      "<class 'pandas.core.frame.DataFrame'>\n",
      "RangeIndex: 9289 entries, 0 to 9288\n",
      "Data columns (total 6 columns):\n",
      "0    9289 non-null object\n",
      "1    9289 non-null object\n",
      "2    9289 non-null object\n",
      "3    9289 non-null object\n",
      "4    9289 non-null object\n",
      "5    9289 non-null object\n",
      "dtypes: object(6)\n",
      "memory usage: 435.5+ KB\n"
     ]
    }
   ],
   "source": [
    "### traffic_data \n",
    "# 获取值\n",
    "trf_data = pd.read_csv('season_1/training_data/traffic_data/traffic_data_2016-01-01', sep=\"\\t\", header=None)\n",
    "trf_data.info()"
   ]
  },
  {
   "cell_type": "markdown",
   "metadata": {},
   "source": [
    "### 合标交通数据，以供分析\n",
    "- 合标时间数据\n",
    "- 合标地理数据\n",
    "- 并入”gap“ 这个目标值"
   ]
  },
  {
   "cell_type": "code",
   "execution_count": 216,
   "metadata": {
    "collapsed": false
   },
   "outputs": [
    {
     "data": {
      "text/html": [
       "<div>\n",
       "<table border=\"1\" class=\"dataframe\">\n",
       "  <thead>\n",
       "    <tr style=\"text-align: right;\">\n",
       "      <th></th>\n",
       "      <th>district_hash</th>\n",
       "      <th>tj_level_1</th>\n",
       "      <th>tj_level_2</th>\n",
       "      <th>tj_level_3</th>\n",
       "      <th>tj_level_4</th>\n",
       "      <th>time</th>\n",
       "    </tr>\n",
       "  </thead>\n",
       "  <tbody>\n",
       "    <tr>\n",
       "      <th>0</th>\n",
       "      <td>1ecbb52d73c522f184a6fc53128b1ea1</td>\n",
       "      <td>1:231</td>\n",
       "      <td>2:33</td>\n",
       "      <td>3:13</td>\n",
       "      <td>4:10</td>\n",
       "      <td>2016-01-01 23:30:22</td>\n",
       "    </tr>\n",
       "    <tr>\n",
       "      <th>1</th>\n",
       "      <td>1ecbb52d73c522f184a6fc53128b1ea1</td>\n",
       "      <td>1:305</td>\n",
       "      <td>2:69</td>\n",
       "      <td>3:13</td>\n",
       "      <td>4:16</td>\n",
       "      <td>2016-01-01 09:10:25</td>\n",
       "    </tr>\n",
       "    <tr>\n",
       "      <th>2</th>\n",
       "      <td>bf44d327f0232325c6d5280926d7b37d</td>\n",
       "      <td>1:579</td>\n",
       "      <td>2:87</td>\n",
       "      <td>3:28</td>\n",
       "      <td>4:16</td>\n",
       "      <td>2016-01-01 21:50:27</td>\n",
       "    </tr>\n",
       "    <tr>\n",
       "      <th>3</th>\n",
       "      <td>bf44d327f0232325c6d5280926d7b37d</td>\n",
       "      <td>1:242</td>\n",
       "      <td>2:28</td>\n",
       "      <td>3:10</td>\n",
       "      <td>4:9</td>\n",
       "      <td>2016-01-01 06:20:15</td>\n",
       "    </tr>\n",
       "    <tr>\n",
       "      <th>4</th>\n",
       "      <td>bf44d327f0232325c6d5280926d7b37d</td>\n",
       "      <td>1:471</td>\n",
       "      <td>2:35</td>\n",
       "      <td>3:15</td>\n",
       "      <td>4:17</td>\n",
       "      <td>2016-01-01 00:50:26</td>\n",
       "    </tr>\n",
       "  </tbody>\n",
       "</table>\n",
       "</div>"
      ],
      "text/plain": [
       "                      district_hash tj_level_1 tj_level_2 tj_level_3  \\\n",
       "0  1ecbb52d73c522f184a6fc53128b1ea1      1:231       2:33       3:13   \n",
       "1  1ecbb52d73c522f184a6fc53128b1ea1      1:305       2:69       3:13   \n",
       "2  bf44d327f0232325c6d5280926d7b37d      1:579       2:87       3:28   \n",
       "3  bf44d327f0232325c6d5280926d7b37d      1:242       2:28       3:10   \n",
       "4  bf44d327f0232325c6d5280926d7b37d      1:471       2:35       3:15   \n",
       "\n",
       "  tj_level_4                 time  \n",
       "0       4:10  2016-01-01 23:30:22  \n",
       "1       4:16  2016-01-01 09:10:25  \n",
       "2       4:16  2016-01-01 21:50:27  \n",
       "3        4:9  2016-01-01 06:20:15  \n",
       "4       4:17  2016-01-01 00:50:26  "
      ]
     },
     "execution_count": 216,
     "metadata": {},
     "output_type": "execute_result"
    }
   ],
   "source": [
    "trf_data.columns = ['district_hash','tj_level_1','tj_level_2','tj_level_3','tj_level_4','time']\n",
    "trf_data.head()\n",
    "# 可以看到0是地区的hash 值， "
   ]
  },
  {
   "cell_type": "code",
   "execution_count": 217,
   "metadata": {
    "collapsed": false
   },
   "outputs": [
    {
     "data": {
      "text/html": [
       "<div>\n",
       "<table border=\"1\" class=\"dataframe\">\n",
       "  <thead>\n",
       "    <tr style=\"text-align: right;\">\n",
       "      <th></th>\n",
       "      <th>district_hash</th>\n",
       "      <th>tj_level_1</th>\n",
       "      <th>tj_level_2</th>\n",
       "      <th>tj_level_3</th>\n",
       "      <th>tj_level_4</th>\n",
       "      <th>time</th>\n",
       "    </tr>\n",
       "  </thead>\n",
       "  <tbody>\n",
       "    <tr>\n",
       "      <th>0</th>\n",
       "      <td>1ecbb52d73c522f184a6fc53128b1ea1</td>\n",
       "      <td>231</td>\n",
       "      <td>33</td>\n",
       "      <td>13</td>\n",
       "      <td>10</td>\n",
       "      <td>2016-01-01 23:30:22</td>\n",
       "    </tr>\n",
       "    <tr>\n",
       "      <th>1</th>\n",
       "      <td>1ecbb52d73c522f184a6fc53128b1ea1</td>\n",
       "      <td>305</td>\n",
       "      <td>69</td>\n",
       "      <td>13</td>\n",
       "      <td>16</td>\n",
       "      <td>2016-01-01 09:10:25</td>\n",
       "    </tr>\n",
       "    <tr>\n",
       "      <th>2</th>\n",
       "      <td>bf44d327f0232325c6d5280926d7b37d</td>\n",
       "      <td>579</td>\n",
       "      <td>87</td>\n",
       "      <td>28</td>\n",
       "      <td>16</td>\n",
       "      <td>2016-01-01 21:50:27</td>\n",
       "    </tr>\n",
       "    <tr>\n",
       "      <th>3</th>\n",
       "      <td>bf44d327f0232325c6d5280926d7b37d</td>\n",
       "      <td>242</td>\n",
       "      <td>28</td>\n",
       "      <td>10</td>\n",
       "      <td>9</td>\n",
       "      <td>2016-01-01 06:20:15</td>\n",
       "    </tr>\n",
       "    <tr>\n",
       "      <th>4</th>\n",
       "      <td>bf44d327f0232325c6d5280926d7b37d</td>\n",
       "      <td>471</td>\n",
       "      <td>35</td>\n",
       "      <td>15</td>\n",
       "      <td>17</td>\n",
       "      <td>2016-01-01 00:50:26</td>\n",
       "    </tr>\n",
       "  </tbody>\n",
       "</table>\n",
       "</div>"
      ],
      "text/plain": [
       "                      district_hash tj_level_1 tj_level_2 tj_level_3  \\\n",
       "0  1ecbb52d73c522f184a6fc53128b1ea1        231         33         13   \n",
       "1  1ecbb52d73c522f184a6fc53128b1ea1        305         69         13   \n",
       "2  bf44d327f0232325c6d5280926d7b37d        579         87         28   \n",
       "3  bf44d327f0232325c6d5280926d7b37d        242         28         10   \n",
       "4  bf44d327f0232325c6d5280926d7b37d        471         35         15   \n",
       "\n",
       "  tj_level_4                 time  \n",
       "0         10  2016-01-01 23:30:22  \n",
       "1         16  2016-01-01 09:10:25  \n",
       "2         16  2016-01-01 21:50:27  \n",
       "3          9  2016-01-01 06:20:15  \n",
       "4         17  2016-01-01 00:50:26  "
      ]
     },
     "execution_count": 217,
     "metadata": {},
     "output_type": "execute_result"
    }
   ],
   "source": [
    "# 目的是批处理，希望通过 apply 将处理用到群体上，直接对于coloumns 使用 \n",
    "# 使用 colomns.str[0].all() 如果有报错，说明有值错误。\n",
    "def level_process(colomns):\n",
    "    if colomns.str[0].all() in [\"{}\".format(str(i)) for i in range(1,5)] and colomns.str[1].all() == \":\":\n",
    "        return colomns.str.split(\":\").apply(lambda  x: x[1])\n",
    "    else:\n",
    "        return colomns\n",
    "trf_data = trf_data.apply(level_process)\n",
    "trf_data.head()"
   ]
  },
  {
   "cell_type": "code",
   "execution_count": 224,
   "metadata": {
    "collapsed": false
   },
   "outputs": [],
   "source": [
    "# 处理时间数据\n",
    "trf_data[\"time_id\"] = pd.to_datetime(trf_data.time).apply(lambda x: x.hour*6 + int(x.minute/10)+1) \n",
    "trf_data.drop(\"time\", axis=1, inplace=True)"
   ]
  },
  {
   "cell_type": "code",
   "execution_count": 220,
   "metadata": {
    "collapsed": true
   },
   "outputs": [],
   "source": [
    "# 使用 cluster data 对 trf_data 的地理位置合标操作\n",
    "district_data = pd.read_csv('season_1/training_data/cluster_map/cluster_map', delimiter='\\t',header=None)\n",
    "district_data.columns = [\"district_hash\",\"district_id\"]"
   ]
  },
  {
   "cell_type": "code",
   "execution_count": 226,
   "metadata": {
    "collapsed": false
   },
   "outputs": [],
   "source": [
    "# 合并信息\n",
    "trf_data = pd.merge(trf_data ,district_data,on=\"district_hash\")\n",
    "trf_data.drop(\"district_hash\", axis=1, inplace=True)"
   ]
  },
  {
   "cell_type": "code",
   "execution_count": 263,
   "metadata": {
    "collapsed": false
   },
   "outputs": [],
   "source": [
    "# 转换所有值为数字\n",
    "trf_data = trf_data.apply(lambda x: pd.to_numeric(x))"
   ]
  },
  {
   "cell_type": "code",
   "execution_count": 281,
   "metadata": {
    "collapsed": false
   },
   "outputs": [],
   "source": [
    "#看看 time_id 和 district_data \n",
    "trf_data = trf_data.groupby([\"time_id\", \"district_id\"], as_index=False).mean().head()"
   ]
  },
  {
   "cell_type": "markdown",
   "metadata": {},
   "source": [
    "--------"
   ]
  },
  {
   "cell_type": "markdown",
   "metadata": {},
   "source": [
    "#### 合并获得最终合并表summary"
   ]
  },
  {
   "cell_type": "code",
   "execution_count": 328,
   "metadata": {
    "collapsed": false
   },
   "outputs": [],
   "source": [
    "dt = pd.date_range('2016-01-01','2016-01-21')\n",
    "traffic_data_list = []\n",
    "for date in dt:\n",
    "    traffic_data_list.append(traffic_data_transfer(date))\n",
    "trf_summary_df = pd.concat(traffic_data_list)\n",
    "    "
   ]
  },
  {
   "cell_type": "code",
   "execution_count": 311,
   "metadata": {
    "collapsed": false
   },
   "outputs": [
    {
     "data": {
      "text/plain": [
       "'5'"
      ]
     },
     "execution_count": 311,
     "metadata": {},
     "output_type": "execute_result"
    }
   ],
   "source": [
    "# 获得 星期几的labels 要好很多 \n",
    "dt[0].strftime(\"%w\")"
   ]
  },
  {
   "cell_type": "code",
   "execution_count": 346,
   "metadata": {
    "collapsed": true
   },
   "outputs": [],
   "source": [
    "## 把 weather 信息合并\n",
    "summary_df = pd.merge(trf_summary_df, wt_summary_df, on=[\"date\",\"w\",\"time_id\"])"
   ]
  },
  {
   "cell_type": "code",
   "execution_count": 392,
   "metadata": {
    "collapsed": false
   },
   "outputs": [
    {
     "data": {
      "text/html": [
       "<div>\n",
       "<table border=\"1\" class=\"dataframe\">\n",
       "  <thead>\n",
       "    <tr style=\"text-align: right;\">\n",
       "      <th></th>\n",
       "      <th>tj_level_1</th>\n",
       "      <th>tj_level_2</th>\n",
       "      <th>tj_level_3</th>\n",
       "      <th>tj_level_4</th>\n",
       "      <th>time_id</th>\n",
       "      <th>district_id</th>\n",
       "      <th>weather</th>\n",
       "      <th>temp</th>\n",
       "      <th>pm25</th>\n",
       "    </tr>\n",
       "  </thead>\n",
       "  <tbody>\n",
       "    <tr>\n",
       "      <th>count</th>\n",
       "      <td>172308.000000</td>\n",
       "      <td>172308.000000</td>\n",
       "      <td>172308.000000</td>\n",
       "      <td>172308.000000</td>\n",
       "      <td>172308.000000</td>\n",
       "      <td>172308.000000</td>\n",
       "      <td>172308.000000</td>\n",
       "      <td>172308.000000</td>\n",
       "      <td>172308.000000</td>\n",
       "    </tr>\n",
       "    <tr>\n",
       "      <th>mean</th>\n",
       "      <td>598.056173</td>\n",
       "      <td>126.300445</td>\n",
       "      <td>37.831006</td>\n",
       "      <td>25.629994</td>\n",
       "      <td>71.271229</td>\n",
       "      <td>33.199074</td>\n",
       "      <td>3.099290</td>\n",
       "      <td>6.650637</td>\n",
       "      <td>122.050491</td>\n",
       "    </tr>\n",
       "    <tr>\n",
       "      <th>std</th>\n",
       "      <td>701.701138</td>\n",
       "      <td>213.717970</td>\n",
       "      <td>66.374053</td>\n",
       "      <td>41.295776</td>\n",
       "      <td>41.331211</td>\n",
       "      <td>19.025296</td>\n",
       "      <td>1.617086</td>\n",
       "      <td>3.618044</td>\n",
       "      <td>51.114466</td>\n",
       "    </tr>\n",
       "    <tr>\n",
       "      <th>min</th>\n",
       "      <td>0.000000</td>\n",
       "      <td>0.000000</td>\n",
       "      <td>0.000000</td>\n",
       "      <td>0.000000</td>\n",
       "      <td>2.000000</td>\n",
       "      <td>1.000000</td>\n",
       "      <td>1.000000</td>\n",
       "      <td>0.000000</td>\n",
       "      <td>26.000000</td>\n",
       "    </tr>\n",
       "    <tr>\n",
       "      <th>25%</th>\n",
       "      <td>145.000000</td>\n",
       "      <td>16.000000</td>\n",
       "      <td>4.000000</td>\n",
       "      <td>3.000000</td>\n",
       "      <td>35.000000</td>\n",
       "      <td>17.000000</td>\n",
       "      <td>2.000000</td>\n",
       "      <td>4.000000</td>\n",
       "      <td>86.000000</td>\n",
       "    </tr>\n",
       "    <tr>\n",
       "      <th>50%</th>\n",
       "      <td>319.000000</td>\n",
       "      <td>48.000000</td>\n",
       "      <td>14.000000</td>\n",
       "      <td>10.000000</td>\n",
       "      <td>71.000000</td>\n",
       "      <td>33.000000</td>\n",
       "      <td>2.500000</td>\n",
       "      <td>7.000000</td>\n",
       "      <td>118.000000</td>\n",
       "    </tr>\n",
       "    <tr>\n",
       "      <th>75%</th>\n",
       "      <td>774.000000</td>\n",
       "      <td>142.000000</td>\n",
       "      <td>41.000000</td>\n",
       "      <td>30.000000</td>\n",
       "      <td>107.000000</td>\n",
       "      <td>49.000000</td>\n",
       "      <td>4.000000</td>\n",
       "      <td>8.000000</td>\n",
       "      <td>159.000000</td>\n",
       "    </tr>\n",
       "    <tr>\n",
       "      <th>max</th>\n",
       "      <td>4223.000000</td>\n",
       "      <td>2084.000000</td>\n",
       "      <td>842.000000</td>\n",
       "      <td>449.000000</td>\n",
       "      <td>144.000000</td>\n",
       "      <td>66.000000</td>\n",
       "      <td>9.000000</td>\n",
       "      <td>19.000000</td>\n",
       "      <td>276.000000</td>\n",
       "    </tr>\n",
       "  </tbody>\n",
       "</table>\n",
       "</div>"
      ],
      "text/plain": [
       "          tj_level_1     tj_level_2     tj_level_3     tj_level_4  \\\n",
       "count  172308.000000  172308.000000  172308.000000  172308.000000   \n",
       "mean      598.056173     126.300445      37.831006      25.629994   \n",
       "std       701.701138     213.717970      66.374053      41.295776   \n",
       "min         0.000000       0.000000       0.000000       0.000000   \n",
       "25%       145.000000      16.000000       4.000000       3.000000   \n",
       "50%       319.000000      48.000000      14.000000      10.000000   \n",
       "75%       774.000000     142.000000      41.000000      30.000000   \n",
       "max      4223.000000    2084.000000     842.000000     449.000000   \n",
       "\n",
       "             time_id    district_id        weather           temp  \\\n",
       "count  172308.000000  172308.000000  172308.000000  172308.000000   \n",
       "mean       71.271229      33.199074       3.099290       6.650637   \n",
       "std        41.331211      19.025296       1.617086       3.618044   \n",
       "min         2.000000       1.000000       1.000000       0.000000   \n",
       "25%        35.000000      17.000000       2.000000       4.000000   \n",
       "50%        71.000000      33.000000       2.500000       7.000000   \n",
       "75%       107.000000      49.000000       4.000000       8.000000   \n",
       "max       144.000000      66.000000       9.000000      19.000000   \n",
       "\n",
       "                pm25  \n",
       "count  172308.000000  \n",
       "mean      122.050491  \n",
       "std        51.114466  \n",
       "min        26.000000  \n",
       "25%        86.000000  \n",
       "50%       118.000000  \n",
       "75%       159.000000  \n",
       "max       276.000000  "
      ]
     },
     "execution_count": 392,
     "metadata": {},
     "output_type": "execute_result"
    }
   ],
   "source": [
    "summary_df.describe()"
   ]
  },
  {
   "cell_type": "code",
   "execution_count": 349,
   "metadata": {
    "collapsed": true
   },
   "outputs": [],
   "source": [
    "# 最后加入 gap target\n",
    "order_data_list = []\n",
    "for date in dt:\n",
    "    \n",
    "    order = pd.read_csv('./order_data_{}_gap.csv'.format(date.strftime(\"%Y-%m-%d\")))\n",
    "    order[\"date\"] = date\n",
    "    order[\"w\"] = date.strftime(\"%w\")\n",
    "    order_data_list.append(order)\n",
    "\n",
    "order_summary_df = pd.concat(order_data_list)"
   ]
  },
  {
   "cell_type": "code",
   "execution_count": 357,
   "metadata": {
    "collapsed": false
   },
   "outputs": [],
   "source": [
    "# 最后的合并\n",
    "summary = pd.merge(summary_df, order_summary_df, on=[\"district_id\",\"time_id\",\"w\",\"date\"], how=\"outer\")"
   ]
  },
  {
   "cell_type": "code",
   "execution_count": 390,
   "metadata": {
    "collapsed": false
   },
   "outputs": [
    {
     "name": "stdout",
     "output_type": "stream",
     "text": [
      "<class 'pandas.core.frame.DataFrame'>\n",
      "Int64Index: 172308 entries, 0 to 172307\n",
      "Data columns (total 12 columns):\n",
      "tj_level_1     172308 non-null float64\n",
      "tj_level_2     172308 non-null float64\n",
      "tj_level_3     172308 non-null float64\n",
      "tj_level_4     172308 non-null float64\n",
      "time_id        172308 non-null float64\n",
      "district_id    172308 non-null float64\n",
      "date           172308 non-null datetime64[ns]\n",
      "w              172308 non-null object\n",
      "weather        172308 non-null float64\n",
      "temp           172308 non-null float64\n",
      "pm25           172308 non-null float64\n",
      "gap            172308 non-null float64\n",
      "dtypes: datetime64[ns](1), float64(10), object(1)\n",
      "memory usage: 17.1+ MB\n"
     ]
    }
   ],
   "source": [
    "summary.info()"
   ]
  },
  {
   "cell_type": "code",
   "execution_count": 369,
   "metadata": {
    "collapsed": false
   },
   "outputs": [],
   "source": [
    "# 把gap 是NaN的填充为 0 ，表示没人下单， 这是合乎情理的\n",
    "summary.gap.fillna(0, inplace=True)\n",
    "summary.dropna(inplace=True)"
   ]
  },
  {
   "cell_type": "code",
   "execution_count": 410,
   "metadata": {
    "collapsed": false
   },
   "outputs": [
    {
     "data": {
      "text/html": [
       "<div>\n",
       "<table border=\"1\" class=\"dataframe\">\n",
       "  <thead>\n",
       "    <tr style=\"text-align: right;\">\n",
       "      <th></th>\n",
       "      <th>tj_level_1</th>\n",
       "      <th>tj_level_2</th>\n",
       "      <th>tj_level_3</th>\n",
       "      <th>tj_level_4</th>\n",
       "      <th>time_id</th>\n",
       "      <th>district_id</th>\n",
       "      <th>date</th>\n",
       "      <th>w</th>\n",
       "      <th>weather</th>\n",
       "      <th>temp</th>\n",
       "      <th>pm25</th>\n",
       "      <th>gap</th>\n",
       "    </tr>\n",
       "  </thead>\n",
       "  <tbody>\n",
       "    <tr>\n",
       "      <th>0</th>\n",
       "      <td>231.0</td>\n",
       "      <td>33.0</td>\n",
       "      <td>13.0</td>\n",
       "      <td>10.0</td>\n",
       "      <td>142.0</td>\n",
       "      <td>66.0</td>\n",
       "      <td>2016-01-01</td>\n",
       "      <td>5</td>\n",
       "      <td>2.0</td>\n",
       "      <td>8.0</td>\n",
       "      <td>126.0</td>\n",
       "      <td>0.0</td>\n",
       "    </tr>\n",
       "    <tr>\n",
       "      <th>1</th>\n",
       "      <td>449.0</td>\n",
       "      <td>46.0</td>\n",
       "      <td>19.0</td>\n",
       "      <td>11.0</td>\n",
       "      <td>142.0</td>\n",
       "      <td>64.0</td>\n",
       "      <td>2016-01-01</td>\n",
       "      <td>5</td>\n",
       "      <td>2.0</td>\n",
       "      <td>8.0</td>\n",
       "      <td>126.0</td>\n",
       "      <td>1.0</td>\n",
       "    </tr>\n",
       "    <tr>\n",
       "      <th>2</th>\n",
       "      <td>788.0</td>\n",
       "      <td>95.0</td>\n",
       "      <td>12.0</td>\n",
       "      <td>21.0</td>\n",
       "      <td>142.0</td>\n",
       "      <td>2.0</td>\n",
       "      <td>2016-01-01</td>\n",
       "      <td>5</td>\n",
       "      <td>2.0</td>\n",
       "      <td>8.0</td>\n",
       "      <td>126.0</td>\n",
       "      <td>0.0</td>\n",
       "    </tr>\n",
       "    <tr>\n",
       "      <th>3</th>\n",
       "      <td>7.0</td>\n",
       "      <td>0.0</td>\n",
       "      <td>0.0</td>\n",
       "      <td>0.0</td>\n",
       "      <td>142.0</td>\n",
       "      <td>15.0</td>\n",
       "      <td>2016-01-01</td>\n",
       "      <td>5</td>\n",
       "      <td>2.0</td>\n",
       "      <td>8.0</td>\n",
       "      <td>126.0</td>\n",
       "      <td>0.0</td>\n",
       "    </tr>\n",
       "    <tr>\n",
       "      <th>4</th>\n",
       "      <td>105.0</td>\n",
       "      <td>13.0</td>\n",
       "      <td>2.0</td>\n",
       "      <td>0.0</td>\n",
       "      <td>142.0</td>\n",
       "      <td>5.0</td>\n",
       "      <td>2016-01-01</td>\n",
       "      <td>5</td>\n",
       "      <td>2.0</td>\n",
       "      <td>8.0</td>\n",
       "      <td>126.0</td>\n",
       "      <td>0.0</td>\n",
       "    </tr>\n",
       "  </tbody>\n",
       "</table>\n",
       "</div>"
      ],
      "text/plain": [
       "   tj_level_1  tj_level_2  tj_level_3  tj_level_4  time_id  district_id  \\\n",
       "0       231.0        33.0        13.0        10.0    142.0         66.0   \n",
       "1       449.0        46.0        19.0        11.0    142.0         64.0   \n",
       "2       788.0        95.0        12.0        21.0    142.0          2.0   \n",
       "3         7.0         0.0         0.0         0.0    142.0         15.0   \n",
       "4       105.0        13.0         2.0         0.0    142.0          5.0   \n",
       "\n",
       "        date  w  weather  temp   pm25  gap  \n",
       "0 2016-01-01  5      2.0   8.0  126.0  0.0  \n",
       "1 2016-01-01  5      2.0   8.0  126.0  1.0  \n",
       "2 2016-01-01  5      2.0   8.0  126.0  0.0  \n",
       "3 2016-01-01  5      2.0   8.0  126.0  0.0  \n",
       "4 2016-01-01  5      2.0   8.0  126.0  0.0  "
      ]
     },
     "execution_count": 410,
     "metadata": {},
     "output_type": "execute_result"
    }
   ],
   "source": [
    "# 可以看到，合并但保留了所有的信息\n",
    "summary.head()"
   ]
  },
  {
   "cell_type": "code",
   "execution_count": 412,
   "metadata": {
    "collapsed": false
   },
   "outputs": [
    {
     "data": {
      "text/plain": [
       "Timestamp('2016-01-01 00:00:00')"
      ]
     },
     "execution_count": 412,
     "metadata": {},
     "output_type": "execute_result"
    }
   ],
   "source": [
    "pd.to_datetime(\"2016-01-01\")"
   ]
  },
  {
   "cell_type": "code",
   "execution_count": 415,
   "metadata": {
    "collapsed": false
   },
   "outputs": [
    {
     "name": "stdout",
     "output_type": "stream",
     "text": [
      "<class 'pandas.core.frame.DataFrame'>\n",
      "Int64Index: 163149 entries, 9159 to 172307\n",
      "Data columns (total 12 columns):\n",
      "tj_level_1     163149 non-null float64\n",
      "tj_level_2     163149 non-null float64\n",
      "tj_level_3     163149 non-null float64\n",
      "tj_level_4     163149 non-null float64\n",
      "time_id        163149 non-null float64\n",
      "district_id    163149 non-null float64\n",
      "date           163149 non-null datetime64[ns]\n",
      "w              163149 non-null object\n",
      "weather        163149 non-null float64\n",
      "temp           163149 non-null float64\n",
      "pm25           163149 non-null float64\n",
      "gap            163149 non-null float64\n",
      "dtypes: datetime64[ns](1), float64(10), object(1)\n",
      "memory usage: 16.2+ MB\n"
     ]
    }
   ],
   "source": [
    "# 由于 2016-01-01 比较特别，是假日，很可能有特别的分布特征，因此处理的时候要小心~\n",
    "# 使用如下形式 可以排除 这一天：\n",
    "summary[summary.date != pd.to_datetime(\"2016-01-01\")].info()"
   ]
  },
  {
   "cell_type": "markdown",
   "metadata": {},
   "source": [
    "### 对整体特征的探索，根据training_data\n",
    "- 发现gap全部为零的数据比例为 0.287\n",
    "- 时间上有明显的高低峰\n",
    "- 周末和工作日区别明显，工作日周四、周五和周一周二周三也有较大的区别 "
   ]
  },
  {
   "cell_type": "code",
   "execution_count": 423,
   "metadata": {
    "collapsed": false
   },
   "outputs": [],
   "source": [
    "summary_analysis = summary[summary.date != pd.to_datetime(\"2016-01-01\")].groupby([\"time_id\", \"district_id\", \"w\"]).mean()"
   ]
  },
  {
   "cell_type": "code",
   "execution_count": 424,
   "metadata": {
    "collapsed": false
   },
   "outputs": [],
   "source": [
    "summary_analysis[\"std\"] = summary[summary.date != pd.to_datetime(\"2016-01-01\")].groupby([\"time_id\", \"district_id\", \"w\"]).std()[\"gap\"]"
   ]
  },
  {
   "cell_type": "code",
   "execution_count": 425,
   "metadata": {
    "collapsed": false
   },
   "outputs": [
    {
     "name": "stdout",
     "output_type": "stream",
     "text": [
      "<class 'pandas.core.frame.DataFrame'>\n",
      "MultiIndex: 19992 entries, (2.0, 2.0, 1) to (144.0, 66.0, 5)\n",
      "Data columns (total 9 columns):\n",
      "tj_level_1    19992 non-null float64\n",
      "tj_level_2    19992 non-null float64\n",
      "tj_level_3    19992 non-null float64\n",
      "tj_level_4    19992 non-null float64\n",
      "weather       19992 non-null float64\n",
      "temp          19992 non-null float64\n",
      "pm25          19992 non-null float64\n",
      "gap           19992 non-null float64\n",
      "std           19017 non-null float64\n",
      "dtypes: float64(9)\n",
      "memory usage: 1.5+ MB\n"
     ]
    }
   ],
   "source": [
    "# 发现全部为零的数据还是很多的。 有 18700 / 65000 = 0.287 。也就是在1/4 至 1/3 之间的比例。\n",
    "# 这些数据可以安全的预测为零。印象这些的和地域信息居住信息有关，信息是不完备的。\n",
    "summary_analysis[summary_analysis.gap == 0].info()"
   ]
  },
  {
   "cell_type": "code",
   "execution_count": 420,
   "metadata": {
    "collapsed": false
   },
   "outputs": [
    {
     "data": {
      "text/plain": [
       "<matplotlib.axes._subplots.AxesSubplot at 0x143ffe198>"
      ]
     },
     "execution_count": 420,
     "metadata": {},
     "output_type": "execute_result"
    },
    {
     "data": {
      "image/png": "[encoded data removed]",
      "text/plain": [
       "<matplotlib.figure.Figure at 0x144006390>"
      ]
     },
     "metadata": {},
     "output_type": "display_data"
    }
   ],
   "source": [
    "summary_analysis.gap.plot()\n",
    "#从时间轴作为主线来看，有上班高峰，下班高峰，和晚上高峰的三个时间聚集点"
   ]
  },
  {
   "cell_type": "code",
   "execution_count": 426,
   "metadata": {
    "collapsed": false
   },
   "outputs": [
    {
     "data": {
      "text/plain": [
       "<matplotlib.axes._subplots.AxesSubplot at 0x1371935f8>"
      ]
     },
     "execution_count": 426,
     "metadata": {},
     "output_type": "execute_result"
    },
    {
     "data": {
      "image/png": "[encoded data removed]",
      "text/plain": [
       "<matplotlib.figure.Figure at 0x13dd31d68>"
      ]
     },
     "metadata": {},
     "output_type": "display_data"
    }
   ],
   "source": [
    "summary_analysis_district_first = summary[summary.date != pd.to_datetime(\"2016-01-01\")].groupby([\"district_id\", \"time_id\", \"w\"]).mean()\n",
    "# summary_analysis_district_first[summary_analysis_district_first.gap > 0].gap.plot()\n",
    "# 将地区作为主线，就会发现，相比于 时间，地区的影响并不很连续。"
   ]
  },
  {
   "cell_type": "code",
   "execution_count": 431,
   "metadata": {
    "collapsed": false
   },
   "outputs": [
    {
     "data": {
      "text/plain": [
       "<matplotlib.axes._subplots.AxesSubplot at 0x14348f160>"
      ]
     },
     "execution_count": 431,
     "metadata": {},
     "output_type": "execute_result"
    },
    {
     "data": {
      "image/png": "[encoded data removed]",
      "text/plain": [
       "<matplotlib.figure.Figure at 0x1433a4278>"
      ]
     },
     "metadata": {},
     "output_type": "display_data"
    }
   ],
   "source": [
    "summary_analysis_week = summary[summary.date != pd.to_datetime(\"2016-01-01\")].groupby([\"w\",\"time_id\", \"district_id\"]).mean()\n",
    "summary_analysis_week.gap.plot(figsize=(13,10))\n",
    "# 将星期作为主线，在工作日以时间作为主线的四个峰更明晰。\n",
    "# 工作日(”w” in [1-5]) 中 的 格局 和 周末[6-7] 不同, 四个峰的高低可以明晰的看出。\n",
    "# 和我的预期有些不一致的是工作日可能出现局部没有车的情况大于周末。\n",
    "# 图中根据每一个星期中七天的特点会发现 周一和周二是很相似的。"
   ]
  },
  {
   "cell_type": "markdown",
   "metadata": {},
   "source": [
    "### 验证validation：\n",
    "- cross-test validation K-folds 如何进行我暂时还有些模糊\n"
   ]
  },
  {
   "cell_type": "markdown",
   "metadata": {},
   "source": [
    "### 归一化处理"
   ]
  },
  {
   "cell_type": "code",
   "execution_count": 511,
   "metadata": {
    "collapsed": false
   },
   "outputs": [
    {
     "data": {
      "text/html": [
       "<div>\n",
       "<table border=\"1\" class=\"dataframe\">\n",
       "  <thead>\n",
       "    <tr style=\"text-align: right;\">\n",
       "      <th></th>\n",
       "      <th>tj_level_1</th>\n",
       "      <th>tj_level_2</th>\n",
       "      <th>tj_level_3</th>\n",
       "      <th>tj_level_4</th>\n",
       "      <th>time_id</th>\n",
       "      <th>district_id</th>\n",
       "      <th>date</th>\n",
       "      <th>w</th>\n",
       "      <th>weather</th>\n",
       "      <th>temp</th>\n",
       "      <th>pm25</th>\n",
       "      <th>gap</th>\n",
       "    </tr>\n",
       "  </thead>\n",
       "  <tbody>\n",
       "    <tr>\n",
       "      <th>0</th>\n",
       "      <td>0.054700</td>\n",
       "      <td>0.015835</td>\n",
       "      <td>0.015439</td>\n",
       "      <td>0.022272</td>\n",
       "      <td>142.0</td>\n",
       "      <td>66.0</td>\n",
       "      <td>2016-01-01</td>\n",
       "      <td>5</td>\n",
       "      <td>2.0</td>\n",
       "      <td>0.421053</td>\n",
       "      <td>0.4</td>\n",
       "      <td>0.0</td>\n",
       "    </tr>\n",
       "    <tr>\n",
       "      <th>1</th>\n",
       "      <td>0.106323</td>\n",
       "      <td>0.022073</td>\n",
       "      <td>0.022565</td>\n",
       "      <td>0.024499</td>\n",
       "      <td>142.0</td>\n",
       "      <td>64.0</td>\n",
       "      <td>2016-01-01</td>\n",
       "      <td>5</td>\n",
       "      <td>2.0</td>\n",
       "      <td>0.421053</td>\n",
       "      <td>0.4</td>\n",
       "      <td>1.0</td>\n",
       "    </tr>\n",
       "    <tr>\n",
       "      <th>2</th>\n",
       "      <td>0.186597</td>\n",
       "      <td>0.045585</td>\n",
       "      <td>0.014252</td>\n",
       "      <td>0.046771</td>\n",
       "      <td>142.0</td>\n",
       "      <td>2.0</td>\n",
       "      <td>2016-01-01</td>\n",
       "      <td>5</td>\n",
       "      <td>2.0</td>\n",
       "      <td>0.421053</td>\n",
       "      <td>0.4</td>\n",
       "      <td>0.0</td>\n",
       "    </tr>\n",
       "    <tr>\n",
       "      <th>3</th>\n",
       "      <td>0.001658</td>\n",
       "      <td>0.000000</td>\n",
       "      <td>0.000000</td>\n",
       "      <td>0.000000</td>\n",
       "      <td>142.0</td>\n",
       "      <td>15.0</td>\n",
       "      <td>2016-01-01</td>\n",
       "      <td>5</td>\n",
       "      <td>2.0</td>\n",
       "      <td>0.421053</td>\n",
       "      <td>0.4</td>\n",
       "      <td>0.0</td>\n",
       "    </tr>\n",
       "    <tr>\n",
       "      <th>4</th>\n",
       "      <td>0.024864</td>\n",
       "      <td>0.006238</td>\n",
       "      <td>0.002375</td>\n",
       "      <td>0.000000</td>\n",
       "      <td>142.0</td>\n",
       "      <td>5.0</td>\n",
       "      <td>2016-01-01</td>\n",
       "      <td>5</td>\n",
       "      <td>2.0</td>\n",
       "      <td>0.421053</td>\n",
       "      <td>0.4</td>\n",
       "      <td>0.0</td>\n",
       "    </tr>\n",
       "  </tbody>\n",
       "</table>\n",
       "</div>"
      ],
      "text/plain": [
       "   tj_level_1  tj_level_2  tj_level_3  tj_level_4  time_id  district_id  \\\n",
       "0    0.054700    0.015835    0.015439    0.022272    142.0         66.0   \n",
       "1    0.106323    0.022073    0.022565    0.024499    142.0         64.0   \n",
       "2    0.186597    0.045585    0.014252    0.046771    142.0          2.0   \n",
       "3    0.001658    0.000000    0.000000    0.000000    142.0         15.0   \n",
       "4    0.024864    0.006238    0.002375    0.000000    142.0          5.0   \n",
       "\n",
       "        date  w  weather      temp  pm25  gap  \n",
       "0 2016-01-01  5      2.0  0.421053   0.4  0.0  \n",
       "1 2016-01-01  5      2.0  0.421053   0.4  1.0  \n",
       "2 2016-01-01  5      2.0  0.421053   0.4  0.0  \n",
       "3 2016-01-01  5      2.0  0.421053   0.4  0.0  \n",
       "4 2016-01-01  5      2.0  0.421053   0.4  0.0  "
      ]
     },
     "execution_count": 511,
     "metadata": {},
     "output_type": "execute_result"
    }
   ],
   "source": [
    "def normalization(data):\n",
    "    data_min = np.min(data)\n",
    "    data_range = np.max(data) - np.min(data)\n",
    "    return data.apply(lambda x: (x-data_min)/data_range)\n",
    "\n",
    "summary_normalized = summary.copy()\n",
    "# tj_level \n",
    "for i in range(1,5):\n",
    "    summary_normalized[\"tj_level_{}\".format(i)] =  normalization(\n",
    "        summary_normalized[\"tj_level_{}\".format(i)]\n",
    "    )\n",
    "\n",
    "# temp \n",
    "for item in [\"temp\",\"pm25\"]:\n",
    "    summary_normalized[item] = normalization(\n",
    "        summary_normalized[item]\n",
    "        )\n",
    "    \n",
    "summary_normalized.head()"
   ]
  },
  {
   "cell_type": "markdown",
   "metadata": {},
   "source": [
    " \n",
    "### 将 target: \"gap\"转为 类别变量 "
   ]
  },
  {
   "cell_type": "code",
   "execution_count": 465,
   "metadata": {
    "collapsed": false
   },
   "outputs": [
    {
     "data": {
      "text/plain": [
       "0.49170090767695057"
      ]
     },
     "execution_count": 465,
     "metadata": {},
     "output_type": "execute_result"
    }
   ],
   "source": [
    "# 会发现 有接近50% 的 gap 数据都为 0 ，\n",
    "summary_normalized[summary_normalized.gap == 0].shape[0] /summary_normalized.shape[0] "
   ]
  },
  {
   "cell_type": "code",
   "execution_count": 479,
   "metadata": {
    "collapsed": false
   },
   "outputs": [
    {
     "data": {
      "text/plain": [
       "0.15779882535924042"
      ]
     },
     "execution_count": 479,
     "metadata": {},
     "output_type": "execute_result"
    }
   ],
   "source": [
    "# 有25% 的比例 为 1或2 \n",
    "summary_normalized[summary_normalized.gap == 1].shape[0] /summary_normalized.shape[0]"
   ]
  },
  {
   "cell_type": "code",
   "execution_count": 469,
   "metadata": {
    "collapsed": false
   },
   "outputs": [
    {
     "data": {
      "text/plain": [
       "0.0857011862478817"
      ]
     },
     "execution_count": 469,
     "metadata": {},
     "output_type": "execute_result"
    }
   ],
   "source": [
    "summary_normalized[summary_normalized.gap == 2].shape[0] /summary_normalized.shape[0] "
   ]
  },
  {
   "cell_type": "code",
   "execution_count": 488,
   "metadata": {
    "collapsed": false
   },
   "outputs": [],
   "source": [
    "# 把 gap 变为分类变量\n",
    "# 去除 gap = 0 的情况\n",
    "# 这样可以做一个分类，[0,1,2,3] 分别对应 gap 为 0，1-2，3-5，大于5 的四种情况。\n",
    "qcut_result = pd.qcut(summary_normalized[summary_normalized.gap > 0].gap, 3)"
   ]
  },
  {
   "cell_type": "code",
   "execution_count": 512,
   "metadata": {
    "collapsed": false
   },
   "outputs": [],
   "source": [
    "# 转类别变量 函数 gap_map\n",
    "gap_map_dict = { 0:[0], 1:[1,2], 2:[3,4,5], 3:range(5,10000) }\n",
    "def gap_map(x):\n",
    "    gap_map_dict = { 0:[0], 1:[1,2], 2:[3,4,5], 3:range(5,10000) }\n",
    "    map_list = list(gap_map_dict.items())\n",
    "    for i in range(len(map_list)):\n",
    "        if x in map_list[i][1]:\n",
    "            return map_list[i][0]\n",
    "    "
   ]
  },
  {
   "cell_type": "code",
   "execution_count": 513,
   "metadata": {
    "collapsed": true
   },
   "outputs": [],
   "source": [
    "# 离散类别化处理\n",
    "# 保证如果多执行一次，也不会出错\n",
    "if np.max(summary_normalized.gap)> 3: \n",
    "    summary_normalized.gap = summary_normalized.gap.apply(gap_map)"
   ]
  },
  {
   "cell_type": "code",
   "execution_count": 514,
   "metadata": {
    "collapsed": false
   },
   "outputs": [
    {
     "data": {
      "text/plain": [
       "count    172308.000000\n",
       "mean          0.922993\n",
       "std           1.095564\n",
       "min           0.000000\n",
       "25%           0.000000\n",
       "50%           1.000000\n",
       "75%           2.000000\n",
       "max           3.000000\n",
       "Name: gap, dtype: float64"
      ]
     },
     "execution_count": 514,
     "metadata": {},
     "output_type": "execute_result"
    }
   ],
   "source": [
    "summary_normalized.gap.describe()"
   ]
  },
  {
   "cell_type": "code",
   "execution_count": 437,
   "metadata": {
    "collapsed": false
   },
   "outputs": [],
   "source": [
    "from sklearn.ensemble import RandomForestClassifier\n",
    "RandomForestClassifier()\n"
   ]
  }
 ],
 "metadata": {
  "kernelspec": {
   "display_name": "Python 3",
   "language": "python",
   "name": "python3"
  },
  "language_info": {
   "codemirror_mode": {
    "name": "ipython",
    "version": 3
   },
   "file_extension": ".py",
   "mimetype": "text/x-python",
   "name": "python",
   "nbconvert_exporter": "python",
   "pygments_lexer": "ipython3",
   "version": "3.5.1"
  }
 },
 "nbformat": 4,
 "nbformat_minor": 0
}
